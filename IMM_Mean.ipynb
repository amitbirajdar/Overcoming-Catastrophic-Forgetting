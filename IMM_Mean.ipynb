{
  "nbformat": 4,
  "nbformat_minor": 0,
  "metadata": {
    "accelerator": "GPU",
    "colab": {
      "name": "IMM_Mean.ipynb",
      "provenance": [],
      "collapsed_sections": []
    },
    "kernelspec": {
      "display_name": "Python 3",
      "name": "python3"
    },
    "language_info": {
      "name": "python"
    }
  },
  "cells": [
    {
      "cell_type": "code",
      "metadata": {
        "colab": {
          "base_uri": "https://localhost:8080/"
        },
        "id": "MYBlnSI0BJqu",
        "outputId": "e18e008e-5690-4f1b-bd40-a54c222a57e8"
      },
      "source": [
        "from google.colab import drive\n",
        "drive.mount('/content/drive')"
      ],
      "execution_count": 97,
      "outputs": [
        {
          "output_type": "stream",
          "text": [
            "Drive already mounted at /content/drive; to attempt to forcibly remount, call drive.mount(\"/content/drive\", force_remount=True).\n"
          ],
          "name": "stdout"
        }
      ]
    },
    {
      "cell_type": "code",
      "metadata": {
        "id": "KSLIvmiq9hHS"
      },
      "source": [
        "'''Importing necessary libraries'''\n",
        "\n",
        "import numpy as np\n",
        "import matplotlib.pyplot as plt\n",
        "from numpy import random\n",
        "\n",
        "import tensorflow as tf\n",
        "from tensorflow.keras import layers, models\n",
        "from tensorflow.keras import utils as np_utils\n",
        "from tensorflow.python.framework.ops import disable_eager_execution\n",
        "\n",
        "from keras.datasets import mnist\n",
        "from keras.optimizers import SGD\n",
        "\n",
        "from sklearn.model_selection import train_test_split"
      ],
      "execution_count": 98,
      "outputs": []
    },
    {
      "cell_type": "code",
      "metadata": {
        "id": "vGZVtOAUoEQ1"
      },
      "source": [
        "disable_eager_execution()"
      ],
      "execution_count": 99,
      "outputs": []
    },
    {
      "cell_type": "code",
      "metadata": {
        "id": "xOjv6Eli5f93"
      },
      "source": [
        "random.seed(7)"
      ],
      "execution_count": 100,
      "outputs": []
    },
    {
      "cell_type": "code",
      "metadata": {
        "id": "lnmblXIy9vib"
      },
      "source": [
        "'''loading MNIST dataset'''\n",
        "\n",
        "(x_trainA, y_trainA), (x_testA, y_testA) = mnist.load_data()"
      ],
      "execution_count": 101,
      "outputs": []
    },
    {
      "cell_type": "code",
      "metadata": {
        "id": "Jse1kI9kpOXf"
      },
      "source": [
        "'''Concatenating into one single data for preprocessing'''\n",
        "\n",
        "X = np.concatenate((x_trainA,x_testA), axis=0)\n",
        "Y = np.concatenate((y_trainA,y_testA), axis=0)"
      ],
      "execution_count": 102,
      "outputs": []
    },
    {
      "cell_type": "code",
      "metadata": {
        "colab": {
          "base_uri": "https://localhost:8080/"
        },
        "id": "tJ0j7TMiqPBW",
        "outputId": "39b25586-f147-4c6f-ea69-f4b1000450a4"
      },
      "source": [
        "X.shape, Y.shape"
      ],
      "execution_count": 103,
      "outputs": [
        {
          "output_type": "execute_result",
          "data": {
            "text/plain": [
              "((70000, 28, 28), (70000,))"
            ]
          },
          "metadata": {
            "tags": []
          },
          "execution_count": 103
        }
      ]
    },
    {
      "cell_type": "code",
      "metadata": {
        "id": "jEuxeHm6v1P4"
      },
      "source": [
        "'''Normalizing the pixel values'''\n",
        "\n",
        "X = X / 255.0"
      ],
      "execution_count": 104,
      "outputs": []
    },
    {
      "cell_type": "code",
      "metadata": {
        "id": "wFNsM2B-93ff"
      },
      "source": [
        "'''splitting MNIST into two partitions (0-4) and (5-9)'''\n",
        "\n",
        "'''Getting indexes '''\n",
        "idx0_4, idx5_9 = [], []\n",
        "\n",
        "for i in range(0,10):\n",
        "  if i < 5:\n",
        "    idx0_4.append(np.where(Y==i)) # filter mnist data for 0-4\n",
        "  else:\n",
        "    idx5_9.append(np.where(Y==i)) # filter mnist data for 5-9"
      ],
      "execution_count": 105,
      "outputs": []
    },
    {
      "cell_type": "code",
      "metadata": {
        "id": "hB3JlIC3uKPb"
      },
      "source": [
        "'''Combining labels for the two partitions'''\n",
        "\n",
        "index0_4 = np.concatenate((idx0_4[0][0], idx0_4[1][0], idx0_4[2][0], idx0_4[3][0], idx0_4[4][0]), axis=0)\n",
        "index5_9 = np.concatenate((idx5_9[0][0], idx5_9[1][0], idx5_9[2][0], idx5_9[3][0], idx5_9[4][0]), axis=0)"
      ],
      "execution_count": 106,
      "outputs": []
    },
    {
      "cell_type": "code",
      "metadata": {
        "id": "Xixefae4y4ql"
      },
      "source": [
        "'''Getting labels'''\n",
        "\n",
        "y0_4 = Y[index0_4]\n",
        "y5_9 = Y[index5_9]"
      ],
      "execution_count": 107,
      "outputs": []
    },
    {
      "cell_type": "code",
      "metadata": {
        "colab": {
          "base_uri": "https://localhost:8080/"
        },
        "id": "rt_Js5Qks_Eg",
        "outputId": "65b5233c-1e2d-4b41-d5fc-17a4478faddf"
      },
      "source": [
        "'''Getting corresponding images'''\n",
        "\n",
        "img0_4 = X[[index0_4]] # get mnist data for 0-4\n",
        "img5_9 = X[[index5_9]] # get mnist data for 5-9\n",
        "\n",
        "img0_4.shape, img5_9.shape"
      ],
      "execution_count": 108,
      "outputs": [
        {
          "output_type": "stream",
          "text": [
            "/usr/local/lib/python3.7/dist-packages/ipykernel_launcher.py:3: FutureWarning: Using a non-tuple sequence for multidimensional indexing is deprecated; use `arr[tuple(seq)]` instead of `arr[seq]`. In the future this will be interpreted as an array index, `arr[np.array(seq)]`, which will result either in an error or a different result.\n",
            "  This is separate from the ipykernel package so we can avoid doing imports until\n",
            "/usr/local/lib/python3.7/dist-packages/ipykernel_launcher.py:4: FutureWarning: Using a non-tuple sequence for multidimensional indexing is deprecated; use `arr[tuple(seq)]` instead of `arr[seq]`. In the future this will be interpreted as an array index, `arr[np.array(seq)]`, which will result either in an error or a different result.\n",
            "  after removing the cwd from sys.path.\n"
          ],
          "name": "stderr"
        },
        {
          "output_type": "execute_result",
          "data": {
            "text/plain": [
              "((35735, 28, 28), (34265, 28, 28))"
            ]
          },
          "metadata": {
            "tags": []
          },
          "execution_count": 108
        }
      ]
    },
    {
      "cell_type": "code",
      "metadata": {
        "id": "bEwF4mUmLwkr"
      },
      "source": [
        "'''Creating a MLP'''\n",
        "\n",
        "def create_model():\n",
        "  model = models.Sequential([\n",
        "      layers.Dense(800, activation='relu', input_dim=784),\n",
        "      layers.Dropout(0.5),\n",
        "      layers.Dense(800, activation='relu'),\n",
        "      layers.Dropout(0.5),\n",
        "      layers.Dense(800, activation='relu'),\n",
        "      layers.Dropout(0.5),\n",
        "      layers.Dense(5, activation='softmax'),\n",
        "      \n",
        "  ])\n",
        "  return model"
      ],
      "execution_count": 109,
      "outputs": []
    },
    {
      "cell_type": "code",
      "metadata": {
        "id": "9oSBw92Jxcvi"
      },
      "source": [
        "'''Setting up optimizer'''\n",
        "\n",
        "from keras.optimizers import Adam\n",
        "opt = SGD(lr=0.05)\n",
        "batch_size = 64\n",
        "patience = 5\n",
        "clipgrad = 10000"
      ],
      "execution_count": 110,
      "outputs": []
    },
    {
      "cell_type": "code",
      "metadata": {
        "id": "4t_T4ktQY5WB"
      },
      "source": [
        "'''Function for plotting training and validation accuracy'''\n",
        "\n",
        "def plot(history):\n",
        "  plt.plot(history.history['accuracy'])\n",
        "  plt.plot(history.history['val_accuracy'])\n",
        "  plt.legend(['acc', 'val_acc'])\n",
        "  plt.grid(True)"
      ],
      "execution_count": 111,
      "outputs": []
    },
    {
      "cell_type": "code",
      "metadata": {
        "id": "OPFetTJ0Y_xA"
      },
      "source": [
        "'''Function to compile and fit model'''\n",
        "\n",
        "def compile_and_fit(model, xa, xb, validation_data, epochs, loss, filename):\n",
        "  model.compile(optimizer = opt, loss=loss, metrics=['accuracy'])\n",
        "  history = model.fit(xa, xb, epochs=epochs, validation_data=validation_data)\n",
        "  model.save_weights(f'/content/drive/MyDrive/552 PROJECT/IMM/{filename}.h5')\n",
        "  return model, history"
      ],
      "execution_count": 112,
      "outputs": []
    },
    {
      "cell_type": "markdown",
      "metadata": {
        "id": "hXMD3GcrvihV"
      },
      "source": [
        "# Task 1: Training on MNIST (0-4)"
      ]
    },
    {
      "cell_type": "code",
      "metadata": {
        "id": "-9njd5HxH-nH"
      },
      "source": [
        "'''Setting up X and Y for the first task'''\n",
        "\n",
        "X0_4 = img0_4\n",
        "Y0_4 = y0_4"
      ],
      "execution_count": 114,
      "outputs": []
    },
    {
      "cell_type": "code",
      "metadata": {
        "id": "_YgXjdWfv54R"
      },
      "source": [
        "'''Splitting the data into training and testing data'''\n",
        "\n",
        "x_train0_4, x_test0_4, y_train0_4, y_test0_4 = train_test_split(X0_4, Y0_4, test_size=0.2)"
      ],
      "execution_count": 115,
      "outputs": []
    },
    {
      "cell_type": "code",
      "metadata": {
        "colab": {
          "base_uri": "https://localhost:8080/"
        },
        "id": "mFCGMqPawY8v",
        "outputId": "0b687e7a-aa79-416b-b620-769ec4f3ea2f"
      },
      "source": [
        "x_train0_4.shape, y_train0_4.shape, x_test0_4.shape, y_test0_4.shape"
      ],
      "execution_count": 116,
      "outputs": [
        {
          "output_type": "execute_result",
          "data": {
            "text/plain": [
              "((28588, 28, 28), (28588,), (7147, 28, 28), (7147,))"
            ]
          },
          "metadata": {
            "tags": []
          },
          "execution_count": 116
        }
      ]
    },
    {
      "cell_type": "code",
      "metadata": {
        "id": "tPRTGEvEtube"
      },
      "source": [
        "'''reshaping inputs to feed to dense layer of network'''\n",
        "\n",
        "x_train0_4 = x_train0_4.reshape((-1, 784))\n",
        "x_test0_4 = x_test0_4.reshape((-1, 784))"
      ],
      "execution_count": 117,
      "outputs": []
    },
    {
      "cell_type": "code",
      "metadata": {
        "colab": {
          "base_uri": "https://localhost:8080/"
        },
        "id": "9drlTUFPDSSH",
        "outputId": "6c41d209-6391-442f-d02d-c463b0cf3508"
      },
      "source": [
        "model0_4 = create_model()\n",
        "model0_4.summary()"
      ],
      "execution_count": 118,
      "outputs": [
        {
          "output_type": "stream",
          "text": [
            "Model: \"sequential_8\"\n",
            "_________________________________________________________________\n",
            "Layer (type)                 Output Shape              Param #   \n",
            "=================================================================\n",
            "dense_32 (Dense)             (None, 800)               628000    \n",
            "_________________________________________________________________\n",
            "dropout_24 (Dropout)         (None, 800)               0         \n",
            "_________________________________________________________________\n",
            "dense_33 (Dense)             (None, 800)               640800    \n",
            "_________________________________________________________________\n",
            "dropout_25 (Dropout)         (None, 800)               0         \n",
            "_________________________________________________________________\n",
            "dense_34 (Dense)             (None, 800)               640800    \n",
            "_________________________________________________________________\n",
            "dropout_26 (Dropout)         (None, 800)               0         \n",
            "_________________________________________________________________\n",
            "dense_35 (Dense)             (None, 5)                 4005      \n",
            "=================================================================\n",
            "Total params: 1,913,605\n",
            "Trainable params: 1,913,605\n",
            "Non-trainable params: 0\n",
            "_________________________________________________________________\n"
          ],
          "name": "stdout"
        }
      ]
    },
    {
      "cell_type": "code",
      "metadata": {
        "colab": {
          "base_uri": "https://localhost:8080/"
        },
        "id": "jQ1_3J0fEY15",
        "outputId": "ef7750c8-5be0-40ea-c6eb-efc56b2f0d19"
      },
      "source": [
        "'''Compiling and training the model on task 1'''\n",
        "'''Save weights for initializing the next model'''\n",
        "\n",
        "model0_4.compile(loss='sparse_categorical_crossentropy', optimizer = opt, metrics=['accuracy'])\n",
        "\n",
        "history0_4 = model0_4.fit(x_train0_4, y_train0_4, epochs=50, validation_data = (x_test0_4, y_test0_4))\n",
        "\n",
        "model0_4.save('model0_4')\n",
        "model0_4.save_weights('/content/drive/MyDrive/552 PROJECT/IMM/task1mnist0_4.h5')"
      ],
      "execution_count": 119,
      "outputs": [
        {
          "output_type": "stream",
          "text": [
            "Train on 28588 samples, validate on 7147 samples\n",
            "Epoch 1/50\n",
            "28288/28588 [============================>.] - ETA: 0s - loss: 0.2200 - accuracy: 0.9289"
          ],
          "name": "stdout"
        },
        {
          "output_type": "stream",
          "text": [
            "/usr/local/lib/python3.7/dist-packages/tensorflow/python/keras/engine/training.py:2325: UserWarning: `Model.state_updates` will be removed in a future version. This property should not be used in TensorFlow 2.0, as `updates` are applied automatically.\n",
            "  warnings.warn('`Model.state_updates` will be removed in a future version. '\n"
          ],
          "name": "stderr"
        },
        {
          "output_type": "stream",
          "text": [
            "28588/28588 [==============================] - 4s 133us/sample - loss: 0.2190 - accuracy: 0.9292 - val_loss: 0.0819 - val_accuracy: 0.9736\n",
            "Epoch 2/50\n",
            "28588/28588 [==============================] - 4s 123us/sample - loss: 0.0865 - accuracy: 0.9744 - val_loss: 0.0615 - val_accuracy: 0.9800\n",
            "Epoch 3/50\n",
            "28588/28588 [==============================] - 3s 122us/sample - loss: 0.0642 - accuracy: 0.9808 - val_loss: 0.0505 - val_accuracy: 0.9832\n",
            "Epoch 4/50\n",
            "28588/28588 [==============================] - 3s 121us/sample - loss: 0.0520 - accuracy: 0.9841 - val_loss: 0.0457 - val_accuracy: 0.9854\n",
            "Epoch 5/50\n",
            "28588/28588 [==============================] - 3s 118us/sample - loss: 0.0418 - accuracy: 0.9869 - val_loss: 0.0389 - val_accuracy: 0.9891\n",
            "Epoch 6/50\n",
            "28588/28588 [==============================] - 3s 120us/sample - loss: 0.0370 - accuracy: 0.9882 - val_loss: 0.0348 - val_accuracy: 0.9908\n",
            "Epoch 7/50\n",
            "28588/28588 [==============================] - 3s 122us/sample - loss: 0.0326 - accuracy: 0.9895 - val_loss: 0.0322 - val_accuracy: 0.9909\n",
            "Epoch 8/50\n",
            "28588/28588 [==============================] - 4s 123us/sample - loss: 0.0277 - accuracy: 0.9913 - val_loss: 0.0323 - val_accuracy: 0.9916\n",
            "Epoch 9/50\n",
            "28588/28588 [==============================] - 4s 125us/sample - loss: 0.0244 - accuracy: 0.9916 - val_loss: 0.0407 - val_accuracy: 0.9892\n",
            "Epoch 10/50\n",
            "28588/28588 [==============================] - 3s 120us/sample - loss: 0.0216 - accuracy: 0.9926 - val_loss: 0.0324 - val_accuracy: 0.9920\n",
            "Epoch 11/50\n",
            "28588/28588 [==============================] - 3s 122us/sample - loss: 0.0180 - accuracy: 0.9940 - val_loss: 0.0338 - val_accuracy: 0.9917\n",
            "Epoch 12/50\n",
            "28588/28588 [==============================] - 3s 119us/sample - loss: 0.0193 - accuracy: 0.9939 - val_loss: 0.0373 - val_accuracy: 0.9902\n",
            "Epoch 13/50\n",
            "28588/28588 [==============================] - 3s 122us/sample - loss: 0.0174 - accuracy: 0.9939 - val_loss: 0.0272 - val_accuracy: 0.9933\n",
            "Epoch 14/50\n",
            "28588/28588 [==============================] - 3s 122us/sample - loss: 0.0139 - accuracy: 0.9952 - val_loss: 0.0338 - val_accuracy: 0.9924\n",
            "Epoch 15/50\n",
            "28588/28588 [==============================] - 3s 118us/sample - loss: 0.0147 - accuracy: 0.9952 - val_loss: 0.0303 - val_accuracy: 0.9934\n",
            "Epoch 16/50\n",
            "28588/28588 [==============================] - 3s 119us/sample - loss: 0.0132 - accuracy: 0.9955 - val_loss: 0.0283 - val_accuracy: 0.9931\n",
            "Epoch 17/50\n",
            "28588/28588 [==============================] - 4s 126us/sample - loss: 0.0115 - accuracy: 0.9968 - val_loss: 0.0309 - val_accuracy: 0.9934\n",
            "Epoch 18/50\n",
            "28588/28588 [==============================] - 4s 133us/sample - loss: 0.0103 - accuracy: 0.9963 - val_loss: 0.0305 - val_accuracy: 0.9941\n",
            "Epoch 19/50\n",
            "28588/28588 [==============================] - 4s 123us/sample - loss: 0.0107 - accuracy: 0.9965 - val_loss: 0.0310 - val_accuracy: 0.9934\n",
            "Epoch 20/50\n",
            "28588/28588 [==============================] - 4s 131us/sample - loss: 0.0101 - accuracy: 0.9966 - val_loss: 0.0369 - val_accuracy: 0.9929\n",
            "Epoch 21/50\n",
            "28588/28588 [==============================] - 4s 125us/sample - loss: 0.0080 - accuracy: 0.9973 - val_loss: 0.0329 - val_accuracy: 0.9929\n",
            "Epoch 22/50\n",
            "28588/28588 [==============================] - 4s 124us/sample - loss: 0.0088 - accuracy: 0.9969 - val_loss: 0.0314 - val_accuracy: 0.9937\n",
            "Epoch 23/50\n",
            "28588/28588 [==============================] - 3s 121us/sample - loss: 0.0080 - accuracy: 0.9973 - val_loss: 0.0385 - val_accuracy: 0.9927\n",
            "Epoch 24/50\n",
            "28588/28588 [==============================] - 3s 120us/sample - loss: 0.0070 - accuracy: 0.9980 - val_loss: 0.0351 - val_accuracy: 0.9931\n",
            "Epoch 25/50\n",
            "28588/28588 [==============================] - 3s 120us/sample - loss: 0.0066 - accuracy: 0.9976 - val_loss: 0.0318 - val_accuracy: 0.9941\n",
            "Epoch 26/50\n",
            "28588/28588 [==============================] - 3s 121us/sample - loss: 0.0077 - accuracy: 0.9971 - val_loss: 0.0388 - val_accuracy: 0.9929\n",
            "Epoch 27/50\n",
            "28588/28588 [==============================] - 3s 122us/sample - loss: 0.0063 - accuracy: 0.9980 - val_loss: 0.0328 - val_accuracy: 0.9938\n",
            "Epoch 28/50\n",
            "28588/28588 [==============================] - 4s 123us/sample - loss: 0.0062 - accuracy: 0.9979 - val_loss: 0.0356 - val_accuracy: 0.9931\n",
            "Epoch 29/50\n",
            "28588/28588 [==============================] - 3s 120us/sample - loss: 0.0054 - accuracy: 0.9982 - val_loss: 0.0331 - val_accuracy: 0.9934\n",
            "Epoch 30/50\n",
            "28588/28588 [==============================] - 3s 121us/sample - loss: 0.0059 - accuracy: 0.9983 - val_loss: 0.0426 - val_accuracy: 0.9906\n",
            "Epoch 31/50\n",
            "28588/28588 [==============================] - 3s 120us/sample - loss: 0.0063 - accuracy: 0.9981 - val_loss: 0.0324 - val_accuracy: 0.9936\n",
            "Epoch 32/50\n",
            "28588/28588 [==============================] - 3s 121us/sample - loss: 0.0042 - accuracy: 0.9987 - val_loss: 0.0382 - val_accuracy: 0.9936\n",
            "Epoch 33/50\n",
            "28588/28588 [==============================] - 3s 120us/sample - loss: 0.0045 - accuracy: 0.9985 - val_loss: 0.0370 - val_accuracy: 0.9937\n",
            "Epoch 34/50\n",
            "28588/28588 [==============================] - 3s 122us/sample - loss: 0.0044 - accuracy: 0.9985 - val_loss: 0.0432 - val_accuracy: 0.9926\n",
            "Epoch 35/50\n",
            "28588/28588 [==============================] - 3s 119us/sample - loss: 0.0049 - accuracy: 0.9984 - val_loss: 0.0322 - val_accuracy: 0.9948\n",
            "Epoch 36/50\n",
            "28588/28588 [==============================] - 3s 118us/sample - loss: 0.0059 - accuracy: 0.9982 - val_loss: 0.0381 - val_accuracy: 0.9940\n",
            "Epoch 37/50\n",
            "28588/28588 [==============================] - 3s 120us/sample - loss: 0.0051 - accuracy: 0.9983 - val_loss: 0.0396 - val_accuracy: 0.9936\n",
            "Epoch 38/50\n",
            "28588/28588 [==============================] - 4s 123us/sample - loss: 0.0049 - accuracy: 0.9982 - val_loss: 0.0369 - val_accuracy: 0.9948\n",
            "Epoch 39/50\n",
            "28588/28588 [==============================] - 4s 134us/sample - loss: 0.0035 - accuracy: 0.9988 - val_loss: 0.0368 - val_accuracy: 0.9948\n",
            "Epoch 40/50\n",
            "28588/28588 [==============================] - 4s 127us/sample - loss: 0.0041 - accuracy: 0.9987 - val_loss: 0.0383 - val_accuracy: 0.9944\n",
            "Epoch 41/50\n",
            "28588/28588 [==============================] - 4s 124us/sample - loss: 0.0049 - accuracy: 0.9985 - val_loss: 0.0387 - val_accuracy: 0.9944\n",
            "Epoch 42/50\n",
            "28588/28588 [==============================] - 4s 126us/sample - loss: 0.0041 - accuracy: 0.9985 - val_loss: 0.0406 - val_accuracy: 0.9933\n",
            "Epoch 43/50\n",
            "28588/28588 [==============================] - 4s 127us/sample - loss: 0.0034 - accuracy: 0.9992 - val_loss: 0.0374 - val_accuracy: 0.9938\n",
            "Epoch 44/50\n",
            "28588/28588 [==============================] - 4s 125us/sample - loss: 0.0037 - accuracy: 0.9987 - val_loss: 0.0343 - val_accuracy: 0.9938\n",
            "Epoch 45/50\n",
            "28588/28588 [==============================] - 4s 131us/sample - loss: 0.0034 - accuracy: 0.9990 - val_loss: 0.0378 - val_accuracy: 0.9936\n",
            "Epoch 46/50\n",
            "28588/28588 [==============================] - 4s 128us/sample - loss: 0.0033 - accuracy: 0.9989 - val_loss: 0.0362 - val_accuracy: 0.9941\n",
            "Epoch 47/50\n",
            "28588/28588 [==============================] - 4s 127us/sample - loss: 0.0026 - accuracy: 0.9992 - val_loss: 0.0345 - val_accuracy: 0.9945\n",
            "Epoch 48/50\n",
            "28588/28588 [==============================] - 4s 127us/sample - loss: 0.0031 - accuracy: 0.9989 - val_loss: 0.0376 - val_accuracy: 0.9937\n",
            "Epoch 49/50\n",
            "28588/28588 [==============================] - 4s 123us/sample - loss: 0.0030 - accuracy: 0.9992 - val_loss: 0.0403 - val_accuracy: 0.9944\n",
            "Epoch 50/50\n",
            "28588/28588 [==============================] - 3s 121us/sample - loss: 0.0027 - accuracy: 0.9989 - val_loss: 0.0395 - val_accuracy: 0.9941\n",
            "INFO:tensorflow:Assets written to: model0_4/assets\n"
          ],
          "name": "stdout"
        }
      ]
    },
    {
      "cell_type": "code",
      "metadata": {
        "colab": {
          "base_uri": "https://localhost:8080/",
          "height": 265
        },
        "id": "LFn5W_PKGKxY",
        "outputId": "44c93aa1-c314-4b6f-f610-5375334094fe"
      },
      "source": [
        "plot(history0_4)"
      ],
      "execution_count": 120,
      "outputs": [
        {
          "output_type": "display_data",
          "data": {
            "image/png": "[encoded data removed]",
            "text/plain": [
              "<Figure size 432x288 with 1 Axes>"
            ]
          },
          "metadata": {
            "tags": [],
            "needs_background": "light"
          }
        }
      ]
    },
    {
      "cell_type": "markdown",
      "metadata": {
        "id": "JyCZZy4Q3QNV"
      },
      "source": [
        "# Task 2: Training on MNIST (5-9)"
      ]
    },
    {
      "cell_type": "code",
      "metadata": {
        "id": "zNKTTdxa3So-"
      },
      "source": [
        "'''Setting up X and Y for the second task'''\n",
        "\n",
        "X5_9 = img5_9\n",
        "Y5_9 = y5_9"
      ],
      "execution_count": 121,
      "outputs": []
    },
    {
      "cell_type": "code",
      "metadata": {
        "colab": {
          "base_uri": "https://localhost:8080/"
        },
        "id": "5iQkcrd0Rz88",
        "outputId": "ea2a8588-6cab-46d1-e64a-b6a53f70ec93"
      },
      "source": [
        "'''Encoding labels 5-9 into 0-4 since the model's last dense (softmax) wont accept values starting from 5'''\n",
        "\n",
        "from sklearn.preprocessing import LabelEncoder\n",
        "\n",
        "encoder = LabelEncoder()\n",
        "y5_9 = encoder.fit_transform(Y5_9)\n",
        "y5_9"
      ],
      "execution_count": 122,
      "outputs": [
        {
          "output_type": "execute_result",
          "data": {
            "text/plain": [
              "array([0, 0, 0, ..., 4, 4, 4])"
            ]
          },
          "metadata": {
            "tags": []
          },
          "execution_count": 122
        }
      ]
    },
    {
      "cell_type": "code",
      "metadata": {
        "colab": {
          "base_uri": "https://localhost:8080/"
        },
        "id": "yy26ZLgg4p14",
        "outputId": "4c310ce7-139b-4197-d2cd-fb0fc5c30182"
      },
      "source": [
        "Y5_9"
      ],
      "execution_count": 123,
      "outputs": [
        {
          "output_type": "execute_result",
          "data": {
            "text/plain": [
              "array([5, 5, 5, ..., 9, 9, 9], dtype=uint8)"
            ]
          },
          "metadata": {
            "tags": []
          },
          "execution_count": 123
        }
      ]
    },
    {
      "cell_type": "code",
      "metadata": {
        "id": "NLWwgfc-3b0r"
      },
      "source": [
        "'''Splitting the data into training and testing data'''\n",
        "\n",
        "x_train5_9, x_test5_9, y_train5_9, y_test5_9 = train_test_split(X5_9, y5_9, test_size=0.2)"
      ],
      "execution_count": 124,
      "outputs": []
    },
    {
      "cell_type": "code",
      "metadata": {
        "colab": {
          "base_uri": "https://localhost:8080/"
        },
        "id": "c7RqFm6d3bxi",
        "outputId": "202917c6-33c7-4ea2-bba6-82e54db50d52"
      },
      "source": [
        "x_train5_9.shape, y_train5_9.shape, x_test5_9.shape, y_test5_9.shape"
      ],
      "execution_count": 125,
      "outputs": [
        {
          "output_type": "execute_result",
          "data": {
            "text/plain": [
              "((27412, 28, 28), (27412,), (6853, 28, 28), (6853,))"
            ]
          },
          "metadata": {
            "tags": []
          },
          "execution_count": 125
        }
      ]
    },
    {
      "cell_type": "code",
      "metadata": {
        "id": "8P9hI-Tr3bhF"
      },
      "source": [
        "'''reshaping inputs to feed to dense layer of network'''\n",
        "\n",
        "x_train5_9 = x_train5_9.reshape((-1, 784))\n",
        "x_test5_9 = x_test5_9.reshape((-1, 784))"
      ],
      "execution_count": 126,
      "outputs": []
    },
    {
      "cell_type": "code",
      "metadata": {
        "colab": {
          "base_uri": "https://localhost:8080/"
        },
        "id": "1d2OIl0LfSpO",
        "outputId": "85ddd52d-80b7-40f2-a1e5-90e6d4cc0eca"
      },
      "source": [
        "model5_9 = create_model()\n",
        "model5_9.summary()"
      ],
      "execution_count": 127,
      "outputs": [
        {
          "output_type": "stream",
          "text": [
            "Model: \"sequential_9\"\n",
            "_________________________________________________________________\n",
            "Layer (type)                 Output Shape              Param #   \n",
            "=================================================================\n",
            "dense_36 (Dense)             (None, 800)               628000    \n",
            "_________________________________________________________________\n",
            "dropout_27 (Dropout)         (None, 800)               0         \n",
            "_________________________________________________________________\n",
            "dense_37 (Dense)             (None, 800)               640800    \n",
            "_________________________________________________________________\n",
            "dropout_28 (Dropout)         (None, 800)               0         \n",
            "_________________________________________________________________\n",
            "dense_38 (Dense)             (None, 800)               640800    \n",
            "_________________________________________________________________\n",
            "dropout_29 (Dropout)         (None, 800)               0         \n",
            "_________________________________________________________________\n",
            "dense_39 (Dense)             (None, 5)                 4005      \n",
            "=================================================================\n",
            "Total params: 1,913,605\n",
            "Trainable params: 1,913,605\n",
            "Non-trainable params: 0\n",
            "_________________________________________________________________\n"
          ],
          "name": "stdout"
        }
      ]
    },
    {
      "cell_type": "code",
      "metadata": {
        "colab": {
          "base_uri": "https://localhost:8080/"
        },
        "id": "7L5YRGdS34Lj",
        "outputId": "8286d327-5ce6-4d3b-d417-1f5de494c619"
      },
      "source": [
        "'''compiling and training the model for task 2'''\n",
        "'''Load weights from the previous task so that same model is used'''\n",
        "'''Save weights for initializing the next model'''\n",
        "\n",
        "model5_9.compile(optimizer=opt, loss = 'sparse_categorical_crossentropy', metrics=['accuracy'])\n",
        "\n",
        "\n",
        "model5_9.load_weights('/content/drive/MyDrive/552 PROJECT/IMM/task1mnist0_4.h5')\n",
        "\n",
        "history5_9 = model5_9.fit(x_train5_9, y_train5_9, epochs=50, validation_data = (x_test5_9, y_test5_9))\n",
        "\n",
        "model5_9.save_weights('/content/drive/MyDrive/552 PROJECT/IMM/task2mnist5_9.h5')"
      ],
      "execution_count": 128,
      "outputs": [
        {
          "output_type": "stream",
          "text": [
            "Train on 27412 samples, validate on 6853 samples\n",
            "Epoch 1/50\n",
            "27200/27412 [============================>.] - ETA: 0s - loss: 0.2665 - accuracy: 0.9230"
          ],
          "name": "stdout"
        },
        {
          "output_type": "stream",
          "text": [
            "/usr/local/lib/python3.7/dist-packages/tensorflow/python/keras/engine/training.py:2325: UserWarning: `Model.state_updates` will be removed in a future version. This property should not be used in TensorFlow 2.0, as `updates` are applied automatically.\n",
            "  warnings.warn('`Model.state_updates` will be removed in a future version. '\n"
          ],
          "name": "stderr"
        },
        {
          "output_type": "stream",
          "text": [
            "27412/27412 [==============================] - 4s 134us/sample - loss: 0.2653 - accuracy: 0.9233 - val_loss: 0.0893 - val_accuracy: 0.9688\n",
            "Epoch 2/50\n",
            "27412/27412 [==============================] - 3s 120us/sample - loss: 0.1170 - accuracy: 0.9637 - val_loss: 0.0645 - val_accuracy: 0.9803\n",
            "Epoch 3/50\n",
            "27412/27412 [==============================] - 3s 123us/sample - loss: 0.0903 - accuracy: 0.9711 - val_loss: 0.0577 - val_accuracy: 0.9812\n",
            "Epoch 4/50\n",
            "27412/27412 [==============================] - 3s 123us/sample - loss: 0.0739 - accuracy: 0.9775 - val_loss: 0.0502 - val_accuracy: 0.9850\n",
            "Epoch 5/50\n",
            "27412/27412 [==============================] - 3s 123us/sample - loss: 0.0631 - accuracy: 0.9792 - val_loss: 0.0499 - val_accuracy: 0.9832\n",
            "Epoch 6/50\n",
            "27412/27412 [==============================] - 3s 119us/sample - loss: 0.0560 - accuracy: 0.9805 - val_loss: 0.0434 - val_accuracy: 0.9872\n",
            "Epoch 7/50\n",
            "27412/27412 [==============================] - 3s 122us/sample - loss: 0.0469 - accuracy: 0.9847 - val_loss: 0.0430 - val_accuracy: 0.9866\n",
            "Epoch 8/50\n",
            "27412/27412 [==============================] - 3s 121us/sample - loss: 0.0452 - accuracy: 0.9850 - val_loss: 0.0453 - val_accuracy: 0.9853\n",
            "Epoch 9/50\n",
            "27412/27412 [==============================] - 3s 122us/sample - loss: 0.0404 - accuracy: 0.9861 - val_loss: 0.0405 - val_accuracy: 0.9877\n",
            "Epoch 10/50\n",
            "27412/27412 [==============================] - 3s 123us/sample - loss: 0.0374 - accuracy: 0.9879 - val_loss: 0.0407 - val_accuracy: 0.9872\n",
            "Epoch 11/50\n",
            "27412/27412 [==============================] - 3s 123us/sample - loss: 0.0331 - accuracy: 0.9883 - val_loss: 0.0429 - val_accuracy: 0.9880\n",
            "Epoch 12/50\n",
            "27412/27412 [==============================] - 3s 122us/sample - loss: 0.0310 - accuracy: 0.9896 - val_loss: 0.0438 - val_accuracy: 0.9891\n",
            "Epoch 13/50\n",
            "27412/27412 [==============================] - 3s 124us/sample - loss: 0.0279 - accuracy: 0.9902 - val_loss: 0.0437 - val_accuracy: 0.9880\n",
            "Epoch 14/50\n",
            "27412/27412 [==============================] - 3s 123us/sample - loss: 0.0298 - accuracy: 0.9889 - val_loss: 0.0393 - val_accuracy: 0.9905\n",
            "Epoch 15/50\n",
            "27412/27412 [==============================] - 3s 123us/sample - loss: 0.0253 - accuracy: 0.9922 - val_loss: 0.0426 - val_accuracy: 0.9882\n",
            "Epoch 16/50\n",
            "27412/27412 [==============================] - 3s 122us/sample - loss: 0.0255 - accuracy: 0.9913 - val_loss: 0.0432 - val_accuracy: 0.9889\n",
            "Epoch 17/50\n",
            "27412/27412 [==============================] - 3s 123us/sample - loss: 0.0249 - accuracy: 0.9914 - val_loss: 0.0370 - val_accuracy: 0.9904\n",
            "Epoch 18/50\n",
            "27412/27412 [==============================] - 3s 123us/sample - loss: 0.0224 - accuracy: 0.9927 - val_loss: 0.0419 - val_accuracy: 0.9891\n",
            "Epoch 19/50\n",
            "27412/27412 [==============================] - 3s 123us/sample - loss: 0.0216 - accuracy: 0.9932 - val_loss: 0.0422 - val_accuracy: 0.9882\n",
            "Epoch 20/50\n",
            "27412/27412 [==============================] - 3s 121us/sample - loss: 0.0201 - accuracy: 0.9933 - val_loss: 0.0443 - val_accuracy: 0.9896\n",
            "Epoch 21/50\n",
            "27412/27412 [==============================] - 3s 123us/sample - loss: 0.0198 - accuracy: 0.9937 - val_loss: 0.0381 - val_accuracy: 0.9899\n",
            "Epoch 22/50\n",
            "27412/27412 [==============================] - 3s 124us/sample - loss: 0.0187 - accuracy: 0.9937 - val_loss: 0.0408 - val_accuracy: 0.9908\n",
            "Epoch 23/50\n",
            "27412/27412 [==============================] - 3s 125us/sample - loss: 0.0168 - accuracy: 0.9945 - val_loss: 0.0391 - val_accuracy: 0.9899\n",
            "Epoch 24/50\n",
            "27412/27412 [==============================] - 3s 124us/sample - loss: 0.0169 - accuracy: 0.9941 - val_loss: 0.0414 - val_accuracy: 0.9901\n",
            "Epoch 25/50\n",
            "27412/27412 [==============================] - 4s 129us/sample - loss: 0.0145 - accuracy: 0.9957 - val_loss: 0.0463 - val_accuracy: 0.9893\n",
            "Epoch 26/50\n",
            "27412/27412 [==============================] - 4s 128us/sample - loss: 0.0153 - accuracy: 0.9947 - val_loss: 0.0469 - val_accuracy: 0.9895\n",
            "Epoch 27/50\n",
            "27412/27412 [==============================] - 3s 126us/sample - loss: 0.0160 - accuracy: 0.9948 - val_loss: 0.0413 - val_accuracy: 0.9901\n",
            "Epoch 28/50\n",
            "27412/27412 [==============================] - 3s 125us/sample - loss: 0.0140 - accuracy: 0.9958 - val_loss: 0.0415 - val_accuracy: 0.9901\n",
            "Epoch 29/50\n",
            "27412/27412 [==============================] - 3s 123us/sample - loss: 0.0135 - accuracy: 0.9958 - val_loss: 0.0458 - val_accuracy: 0.9893\n",
            "Epoch 30/50\n",
            "27412/27412 [==============================] - 3s 121us/sample - loss: 0.0116 - accuracy: 0.9960 - val_loss: 0.0469 - val_accuracy: 0.9891\n",
            "Epoch 31/50\n",
            "27412/27412 [==============================] - 3s 127us/sample - loss: 0.0125 - accuracy: 0.9954 - val_loss: 0.0425 - val_accuracy: 0.9911\n",
            "Epoch 32/50\n",
            "27412/27412 [==============================] - 3s 123us/sample - loss: 0.0137 - accuracy: 0.9954 - val_loss: 0.0406 - val_accuracy: 0.9910\n",
            "Epoch 33/50\n",
            "27412/27412 [==============================] - 3s 122us/sample - loss: 0.0124 - accuracy: 0.9958 - val_loss: 0.0410 - val_accuracy: 0.9904\n",
            "Epoch 34/50\n",
            "27412/27412 [==============================] - 3s 124us/sample - loss: 0.0123 - accuracy: 0.9958 - val_loss: 0.0441 - val_accuracy: 0.9898\n",
            "Epoch 35/50\n",
            "27412/27412 [==============================] - 3s 123us/sample - loss: 0.0135 - accuracy: 0.9961 - val_loss: 0.0420 - val_accuracy: 0.9892\n",
            "Epoch 36/50\n",
            "27412/27412 [==============================] - 3s 122us/sample - loss: 0.0121 - accuracy: 0.9959 - val_loss: 0.0452 - val_accuracy: 0.9893\n",
            "Epoch 37/50\n",
            "27412/27412 [==============================] - 3s 123us/sample - loss: 0.0107 - accuracy: 0.9963 - val_loss: 0.0476 - val_accuracy: 0.9896\n",
            "Epoch 38/50\n",
            "27412/27412 [==============================] - 3s 122us/sample - loss: 0.0116 - accuracy: 0.9962 - val_loss: 0.0451 - val_accuracy: 0.9899\n",
            "Epoch 39/50\n",
            "27412/27412 [==============================] - 3s 124us/sample - loss: 0.0107 - accuracy: 0.9964 - val_loss: 0.0455 - val_accuracy: 0.9892\n",
            "Epoch 40/50\n",
            "27412/27412 [==============================] - 3s 121us/sample - loss: 0.0094 - accuracy: 0.9967 - val_loss: 0.0454 - val_accuracy: 0.9904\n",
            "Epoch 41/50\n",
            "27412/27412 [==============================] - 3s 123us/sample - loss: 0.0114 - accuracy: 0.9967 - val_loss: 0.0444 - val_accuracy: 0.9901\n",
            "Epoch 42/50\n",
            "27412/27412 [==============================] - 3s 122us/sample - loss: 0.0096 - accuracy: 0.9966 - val_loss: 0.0441 - val_accuracy: 0.9907\n",
            "Epoch 43/50\n",
            "27412/27412 [==============================] - 3s 124us/sample - loss: 0.0095 - accuracy: 0.9972 - val_loss: 0.0464 - val_accuracy: 0.9902\n",
            "Epoch 44/50\n",
            "27412/27412 [==============================] - 3s 126us/sample - loss: 0.0104 - accuracy: 0.9967 - val_loss: 0.0447 - val_accuracy: 0.9904\n",
            "Epoch 45/50\n",
            "27412/27412 [==============================] - 3s 122us/sample - loss: 0.0074 - accuracy: 0.9976 - val_loss: 0.0469 - val_accuracy: 0.9898\n",
            "Epoch 46/50\n",
            "27412/27412 [==============================] - 3s 123us/sample - loss: 0.0094 - accuracy: 0.9963 - val_loss: 0.0465 - val_accuracy: 0.9901\n",
            "Epoch 47/50\n",
            "27412/27412 [==============================] - 3s 123us/sample - loss: 0.0088 - accuracy: 0.9970 - val_loss: 0.0479 - val_accuracy: 0.9905\n",
            "Epoch 48/50\n",
            "27412/27412 [==============================] - 3s 122us/sample - loss: 0.0069 - accuracy: 0.9980 - val_loss: 0.0520 - val_accuracy: 0.9895\n",
            "Epoch 49/50\n",
            "27412/27412 [==============================] - 3s 126us/sample - loss: 0.0074 - accuracy: 0.9974 - val_loss: 0.0491 - val_accuracy: 0.9893\n",
            "Epoch 50/50\n",
            "27412/27412 [==============================] - 3s 124us/sample - loss: 0.0076 - accuracy: 0.9974 - val_loss: 0.0478 - val_accuracy: 0.9898\n"
          ],
          "name": "stdout"
        }
      ]
    },
    {
      "cell_type": "code",
      "metadata": {
        "colab": {
          "base_uri": "https://localhost:8080/",
          "height": 265
        },
        "id": "PRPeF-ni34I5",
        "outputId": "fe61b955-e670-43dc-f541-9ca7f5f61fd4"
      },
      "source": [
        "'''Plotting the accuracy over training period'''\n",
        "\n",
        "plot(history5_9)"
      ],
      "execution_count": 129,
      "outputs": [
        {
          "output_type": "display_data",
          "data": {
            "image/png": "[encoded data removed]",
            "text/plain": [
              "<Figure size 432x288 with 1 Axes>"
            ]
          },
          "metadata": {
            "tags": [],
            "needs_background": "light"
          }
        }
      ]
    },
    {
      "cell_type": "code",
      "metadata": {
        "colab": {
          "base_uri": "https://localhost:8080/",
          "height": 385
        },
        "id": "VAEgZ2kT33-z",
        "outputId": "6709ef8e-5695-4aee-c85d-98d85777ff5d"
      },
      "source": [
        "'''checking predictions'''\n",
        "\n",
        "print(encoder.inverse_transform(model5_9.predict_classes(x_test5_9[0].reshape(-1,784))))\n",
        "plt.imshow(x_test5_9[0].reshape(28,28))"
      ],
      "execution_count": 130,
      "outputs": [
        {
          "output_type": "stream",
          "text": [
            "/usr/local/lib/python3.7/dist-packages/tensorflow/python/keras/engine/sequential.py:450: UserWarning: `model.predict_classes()` is deprecated and will be removed after 2021-01-01. Please use instead:* `np.argmax(model.predict(x), axis=-1)`,   if your model does multi-class classification   (e.g. if it uses a `softmax` last-layer activation).* `(model.predict(x) > 0.5).astype(\"int32\")`,   if your model does binary classification   (e.g. if it uses a `sigmoid` last-layer activation).\n",
            "  warnings.warn('`model.predict_classes()` is deprecated and '\n",
            "/usr/local/lib/python3.7/dist-packages/tensorflow/python/keras/engine/training.py:2325: UserWarning: `Model.state_updates` will be removed in a future version. This property should not be used in TensorFlow 2.0, as `updates` are applied automatically.\n",
            "  warnings.warn('`Model.state_updates` will be removed in a future version. '\n"
          ],
          "name": "stderr"
        },
        {
          "output_type": "stream",
          "text": [
            "[5]\n"
          ],
          "name": "stdout"
        },
        {
          "output_type": "execute_result",
          "data": {
            "text/plain": [
              "<matplotlib.image.AxesImage at 0x7fde8a1be9d0>"
            ]
          },
          "metadata": {
            "tags": []
          },
          "execution_count": 130
        },
        {
          "output_type": "display_data",
          "data": {
            "image/png": "[encoded data removed]",
            "text/plain": [
              "<Figure size 432x288 with 1 Axes>"
            ]
          },
          "metadata": {
            "tags": [],
            "needs_background": "light"
          }
        }
      ]
    },
    {
      "cell_type": "markdown",
      "metadata": {
        "id": "9yDn-1-ccr7j"
      },
      "source": [
        "# Task 3: training on shuffled (pixel shuffling) images (mnist 0-4)"
      ]
    },
    {
      "cell_type": "code",
      "metadata": {
        "id": "Jw3Qfz7YVgKD"
      },
      "source": [
        "'''Setting up X and Y for the third task'''\n",
        "\n",
        "pX0_4 = img0_4\n",
        "pY0_4 = y0_4"
      ],
      "execution_count": 131,
      "outputs": []
    },
    {
      "cell_type": "code",
      "metadata": {
        "id": "DrvIYeSpe5tS"
      },
      "source": [
        "'''Shuffling the pixels'''\n",
        "\n",
        "i = np.arange(pX0_4.shape[1])\n",
        "np.random.shuffle(i)\n",
        "\n",
        "pX0_4 = pX0_4[:, i]"
      ],
      "execution_count": 132,
      "outputs": []
    },
    {
      "cell_type": "code",
      "metadata": {
        "colab": {
          "base_uri": "https://localhost:8080/",
          "height": 144
        },
        "id": "g1OWjmHqggko",
        "outputId": "6332bbe7-40d4-41db-a59a-2a097bea3732"
      },
      "source": [
        "'''visualizing the shuffled images'''\n",
        "\n",
        "plt.subplot(2,2,3)\n",
        "plt.imshow(img0_4[9883].reshape(28,28), cmap='gray')\n",
        "plt.xlabel(y0_4[9883])\n",
        "plt.xticks([])\n",
        "plt.yticks([])\n",
        "\n",
        "plt.subplot(2,2,4)\n",
        "plt.imshow(pX0_4[9883].reshape(28,28), cmap='gray')\n",
        "plt.xlabel(pY0_4[9883])\n",
        "plt.xticks([])\n",
        "plt.yticks([])\n",
        "\n",
        "\n",
        "plt.show()"
      ],
      "execution_count": 133,
      "outputs": [
        {
          "output_type": "display_data",
          "data": {
            "image/png": "[encoded data removed]",
            "text/plain": [
              "<Figure size 432x288 with 2 Axes>"
            ]
          },
          "metadata": {
            "tags": []
          }
        }
      ]
    },
    {
      "cell_type": "code",
      "metadata": {
        "id": "GRPEwg-iWYyC"
      },
      "source": [
        "'''splitting data into training and testing data'''\n",
        "\n",
        "pX_train0_4, pX_test0_4, pY_train0_4, pY_test0_4 = train_test_split(pX0_4, pY0_4, test_size=0.2)"
      ],
      "execution_count": 134,
      "outputs": []
    },
    {
      "cell_type": "code",
      "metadata": {
        "id": "1mzawtgBWzLq"
      },
      "source": [
        "'''reshaping inputs to feed to dense layer of network'''\n",
        "\n",
        "pX_train0_4 = pX_train0_4.reshape((-1, 784))\n",
        "pX_test0_4 = pX_test0_4.reshape((-1, 784))"
      ],
      "execution_count": 135,
      "outputs": []
    },
    {
      "cell_type": "code",
      "metadata": {
        "colab": {
          "base_uri": "https://localhost:8080/"
        },
        "id": "7kkQttXPkm9l",
        "outputId": "d29575d1-e581-4d7b-8a43-d520324c9426"
      },
      "source": [
        "'''creating a new model'''\n",
        "\n",
        "modelp0_4 = create_model()\n",
        "modelp0_4.summary()"
      ],
      "execution_count": 136,
      "outputs": [
        {
          "output_type": "stream",
          "text": [
            "Model: \"sequential_10\"\n",
            "_________________________________________________________________\n",
            "Layer (type)                 Output Shape              Param #   \n",
            "=================================================================\n",
            "dense_40 (Dense)             (None, 800)               628000    \n",
            "_________________________________________________________________\n",
            "dropout_30 (Dropout)         (None, 800)               0         \n",
            "_________________________________________________________________\n",
            "dense_41 (Dense)             (None, 800)               640800    \n",
            "_________________________________________________________________\n",
            "dropout_31 (Dropout)         (None, 800)               0         \n",
            "_________________________________________________________________\n",
            "dense_42 (Dense)             (None, 800)               640800    \n",
            "_________________________________________________________________\n",
            "dropout_32 (Dropout)         (None, 800)               0         \n",
            "_________________________________________________________________\n",
            "dense_43 (Dense)             (None, 5)                 4005      \n",
            "=================================================================\n",
            "Total params: 1,913,605\n",
            "Trainable params: 1,913,605\n",
            "Non-trainable params: 0\n",
            "_________________________________________________________________\n"
          ],
          "name": "stdout"
        }
      ]
    },
    {
      "cell_type": "code",
      "metadata": {
        "colab": {
          "base_uri": "https://localhost:8080/"
        },
        "id": "2mUpiNIwj_rQ",
        "outputId": "23a96d20-d259-49f3-f343-e7c4090bd7e1"
      },
      "source": [
        "'''compiling and training the model for task 3'''\n",
        "'''Load weights from the previous task so that same model is used'''\n",
        "'''Save weights for initializing the next model'''\n",
        "\n",
        "modelp0_4.compile(loss='sparse_categorical_crossentropy', optimizer = opt, metrics=['accuracy'])\n",
        "\n",
        "modelp0_4.load_weights('/content/drive/MyDrive/552 PROJECT/IMM/task2mnist5_9.h5')\n",
        "\n",
        "historyp0_4 = modelp0_4.fit(pX_train0_4, pY_train0_4, epochs=50, validation_data = (pX_test0_4, pY_test0_4))\n",
        "\n",
        "modelp0_4.save_weights('/content/drive/MyDrive/552 PROJECT/IMM/task3pmnist0_4.h5')"
      ],
      "execution_count": 137,
      "outputs": [
        {
          "output_type": "stream",
          "text": [
            "Train on 28588 samples, validate on 7147 samples\n",
            "Epoch 1/50\n",
            "28448/28588 [============================>.] - ETA: 0s - loss: 0.1640 - accuracy: 0.9518"
          ],
          "name": "stdout"
        },
        {
          "output_type": "stream",
          "text": [
            "/usr/local/lib/python3.7/dist-packages/tensorflow/python/keras/engine/training.py:2325: UserWarning: `Model.state_updates` will be removed in a future version. This property should not be used in TensorFlow 2.0, as `updates` are applied automatically.\n",
            "  warnings.warn('`Model.state_updates` will be removed in a future version. '\n"
          ],
          "name": "stderr"
        },
        {
          "output_type": "stream",
          "text": [
            "28588/28588 [==============================] - 4s 137us/sample - loss: 0.1641 - accuracy: 0.9517 - val_loss: 0.0635 - val_accuracy: 0.9796\n",
            "Epoch 2/50\n",
            "28588/28588 [==============================] - 3s 122us/sample - loss: 0.0725 - accuracy: 0.9777 - val_loss: 0.0464 - val_accuracy: 0.9849\n",
            "Epoch 3/50\n",
            "28588/28588 [==============================] - 3s 122us/sample - loss: 0.0566 - accuracy: 0.9829 - val_loss: 0.0393 - val_accuracy: 0.9888\n",
            "Epoch 4/50\n",
            "28588/28588 [==============================] - 3s 120us/sample - loss: 0.0467 - accuracy: 0.9849 - val_loss: 0.0332 - val_accuracy: 0.9889\n",
            "Epoch 5/50\n",
            "28588/28588 [==============================] - 3s 119us/sample - loss: 0.0370 - accuracy: 0.9881 - val_loss: 0.0300 - val_accuracy: 0.9903\n",
            "Epoch 6/50\n",
            "28588/28588 [==============================] - 3s 119us/sample - loss: 0.0340 - accuracy: 0.9896 - val_loss: 0.0307 - val_accuracy: 0.9905\n",
            "Epoch 7/50\n",
            "28588/28588 [==============================] - 3s 120us/sample - loss: 0.0293 - accuracy: 0.9907 - val_loss: 0.0304 - val_accuracy: 0.9899\n",
            "Epoch 8/50\n",
            "28588/28588 [==============================] - 3s 120us/sample - loss: 0.0280 - accuracy: 0.9911 - val_loss: 0.0286 - val_accuracy: 0.9909\n",
            "Epoch 9/50\n",
            "28588/28588 [==============================] - 3s 120us/sample - loss: 0.0226 - accuracy: 0.9928 - val_loss: 0.0282 - val_accuracy: 0.9916\n",
            "Epoch 10/50\n",
            "28588/28588 [==============================] - 3s 122us/sample - loss: 0.0217 - accuracy: 0.9928 - val_loss: 0.0267 - val_accuracy: 0.9920\n",
            "Epoch 11/50\n",
            "28588/28588 [==============================] - 3s 121us/sample - loss: 0.0203 - accuracy: 0.9937 - val_loss: 0.0273 - val_accuracy: 0.9917\n",
            "Epoch 12/50\n",
            "28588/28588 [==============================] - 3s 122us/sample - loss: 0.0184 - accuracy: 0.9939 - val_loss: 0.0279 - val_accuracy: 0.9922\n",
            "Epoch 13/50\n",
            "28588/28588 [==============================] - 3s 122us/sample - loss: 0.0174 - accuracy: 0.9939 - val_loss: 0.0275 - val_accuracy: 0.9924\n",
            "Epoch 14/50\n",
            "28588/28588 [==============================] - 3s 122us/sample - loss: 0.0155 - accuracy: 0.9946 - val_loss: 0.0269 - val_accuracy: 0.9923\n",
            "Epoch 15/50\n",
            "28588/28588 [==============================] - 4s 123us/sample - loss: 0.0144 - accuracy: 0.9956 - val_loss: 0.0317 - val_accuracy: 0.9920\n",
            "Epoch 16/50\n",
            "28588/28588 [==============================] - 3s 121us/sample - loss: 0.0154 - accuracy: 0.9952 - val_loss: 0.0250 - val_accuracy: 0.9929\n",
            "Epoch 17/50\n",
            "28588/28588 [==============================] - 3s 121us/sample - loss: 0.0122 - accuracy: 0.9957 - val_loss: 0.0255 - val_accuracy: 0.9936\n",
            "Epoch 18/50\n",
            "28588/28588 [==============================] - 3s 122us/sample - loss: 0.0111 - accuracy: 0.9966 - val_loss: 0.0270 - val_accuracy: 0.9929\n",
            "Epoch 19/50\n",
            "28588/28588 [==============================] - 3s 121us/sample - loss: 0.0106 - accuracy: 0.9962 - val_loss: 0.0336 - val_accuracy: 0.9919\n",
            "Epoch 20/50\n",
            "28588/28588 [==============================] - 3s 122us/sample - loss: 0.0103 - accuracy: 0.9969 - val_loss: 0.0291 - val_accuracy: 0.9919\n",
            "Epoch 21/50\n",
            "28588/28588 [==============================] - 4s 123us/sample - loss: 0.0109 - accuracy: 0.9964 - val_loss: 0.0290 - val_accuracy: 0.9930\n",
            "Epoch 22/50\n",
            "28588/28588 [==============================] - 3s 122us/sample - loss: 0.0105 - accuracy: 0.9961 - val_loss: 0.0225 - val_accuracy: 0.9937\n",
            "Epoch 23/50\n",
            "28588/28588 [==============================] - 3s 120us/sample - loss: 0.0099 - accuracy: 0.9968 - val_loss: 0.0267 - val_accuracy: 0.9936\n",
            "Epoch 24/50\n",
            "28588/28588 [==============================] - 3s 121us/sample - loss: 0.0087 - accuracy: 0.9969 - val_loss: 0.0289 - val_accuracy: 0.9930\n",
            "Epoch 25/50\n",
            "28588/28588 [==============================] - 3s 120us/sample - loss: 0.0095 - accuracy: 0.9970 - val_loss: 0.0286 - val_accuracy: 0.9936\n",
            "Epoch 26/50\n",
            "28588/28588 [==============================] - 3s 121us/sample - loss: 0.0087 - accuracy: 0.9972 - val_loss: 0.0284 - val_accuracy: 0.9931\n",
            "Epoch 27/50\n",
            "28588/28588 [==============================] - 3s 122us/sample - loss: 0.0083 - accuracy: 0.9973 - val_loss: 0.0287 - val_accuracy: 0.9927\n",
            "Epoch 28/50\n",
            "28588/28588 [==============================] - 3s 121us/sample - loss: 0.0098 - accuracy: 0.9967 - val_loss: 0.0291 - val_accuracy: 0.9927\n",
            "Epoch 29/50\n",
            "28588/28588 [==============================] - 3s 120us/sample - loss: 0.0080 - accuracy: 0.9974 - val_loss: 0.0312 - val_accuracy: 0.9934\n",
            "Epoch 30/50\n",
            "28588/28588 [==============================] - 4s 123us/sample - loss: 0.0080 - accuracy: 0.9974 - val_loss: 0.0331 - val_accuracy: 0.9927\n",
            "Epoch 31/50\n",
            "28588/28588 [==============================] - 3s 120us/sample - loss: 0.0084 - accuracy: 0.9974 - val_loss: 0.0273 - val_accuracy: 0.9931\n",
            "Epoch 32/50\n",
            "28588/28588 [==============================] - 3s 121us/sample - loss: 0.0095 - accuracy: 0.9971 - val_loss: 0.0249 - val_accuracy: 0.9931\n",
            "Epoch 33/50\n",
            "28588/28588 [==============================] - 4s 125us/sample - loss: 0.0054 - accuracy: 0.9980 - val_loss: 0.0287 - val_accuracy: 0.9931\n",
            "Epoch 34/50\n",
            "28588/28588 [==============================] - 3s 120us/sample - loss: 0.0063 - accuracy: 0.9978 - val_loss: 0.0281 - val_accuracy: 0.9934\n",
            "Epoch 35/50\n",
            "28588/28588 [==============================] - 3s 120us/sample - loss: 0.0071 - accuracy: 0.9979 - val_loss: 0.0271 - val_accuracy: 0.9930\n",
            "Epoch 36/50\n",
            "28588/28588 [==============================] - 3s 122us/sample - loss: 0.0063 - accuracy: 0.9978 - val_loss: 0.0296 - val_accuracy: 0.9929\n",
            "Epoch 37/50\n",
            "28588/28588 [==============================] - 3s 120us/sample - loss: 0.0067 - accuracy: 0.9978 - val_loss: 0.0245 - val_accuracy: 0.9938\n",
            "Epoch 38/50\n",
            "28588/28588 [==============================] - 3s 122us/sample - loss: 0.0053 - accuracy: 0.9979 - val_loss: 0.0267 - val_accuracy: 0.9941\n",
            "Epoch 39/50\n",
            "28588/28588 [==============================] - 3s 121us/sample - loss: 0.0063 - accuracy: 0.9981 - val_loss: 0.0306 - val_accuracy: 0.9933\n",
            "Epoch 40/50\n",
            "28588/28588 [==============================] - 3s 120us/sample - loss: 0.0053 - accuracy: 0.9982 - val_loss: 0.0287 - val_accuracy: 0.9930\n",
            "Epoch 41/50\n",
            "28588/28588 [==============================] - 4s 124us/sample - loss: 0.0049 - accuracy: 0.9986 - val_loss: 0.0299 - val_accuracy: 0.9931\n",
            "Epoch 42/50\n",
            "28588/28588 [==============================] - 4s 123us/sample - loss: 0.0055 - accuracy: 0.9980 - val_loss: 0.0280 - val_accuracy: 0.9940\n",
            "Epoch 43/50\n",
            "28588/28588 [==============================] - 3s 120us/sample - loss: 0.0046 - accuracy: 0.9987 - val_loss: 0.0300 - val_accuracy: 0.9924\n",
            "Epoch 44/50\n",
            "28588/28588 [==============================] - 3s 120us/sample - loss: 0.0042 - accuracy: 0.9987 - val_loss: 0.0286 - val_accuracy: 0.9933\n",
            "Epoch 45/50\n",
            "28588/28588 [==============================] - 3s 121us/sample - loss: 0.0065 - accuracy: 0.9979 - val_loss: 0.0287 - val_accuracy: 0.9943\n",
            "Epoch 46/50\n",
            "28588/28588 [==============================] - 3s 121us/sample - loss: 0.0041 - accuracy: 0.9987 - val_loss: 0.0287 - val_accuracy: 0.9934\n",
            "Epoch 47/50\n",
            "28588/28588 [==============================] - 3s 121us/sample - loss: 0.0030 - accuracy: 0.9988 - val_loss: 0.0285 - val_accuracy: 0.9937\n",
            "Epoch 48/50\n",
            "28588/28588 [==============================] - 3s 121us/sample - loss: 0.0040 - accuracy: 0.9987 - val_loss: 0.0268 - val_accuracy: 0.9937\n",
            "Epoch 49/50\n",
            "28588/28588 [==============================] - 3s 122us/sample - loss: 0.0048 - accuracy: 0.9984 - val_loss: 0.0260 - val_accuracy: 0.9938\n",
            "Epoch 50/50\n",
            "28588/28588 [==============================] - 3s 121us/sample - loss: 0.0039 - accuracy: 0.9986 - val_loss: 0.0299 - val_accuracy: 0.9937\n"
          ],
          "name": "stdout"
        }
      ]
    },
    {
      "cell_type": "code",
      "metadata": {
        "colab": {
          "base_uri": "https://localhost:8080/",
          "height": 265
        },
        "id": "0i0W5DajkyKt",
        "outputId": "27c7aaa5-e8fd-4a0b-eca6-60c137ff8c18"
      },
      "source": [
        "'''Plotting the accuracy over training period'''\n",
        "\n",
        "plot(historyp0_4)"
      ],
      "execution_count": 138,
      "outputs": [
        {
          "output_type": "display_data",
          "data": {
            "image/png": "[encoded data removed]",
            "text/plain": [
              "<Figure size 432x288 with 1 Axes>"
            ]
          },
          "metadata": {
            "tags": [],
            "needs_background": "light"
          }
        }
      ]
    },
    {
      "cell_type": "markdown",
      "metadata": {
        "id": "UblwRliKX5Gz"
      },
      "source": [
        "# Task 4: training on shuffled (pixel shuffling) images (mnist 5-9)"
      ]
    },
    {
      "cell_type": "code",
      "metadata": {
        "id": "2T7sO1hSYCa7"
      },
      "source": [
        "'''Setting up X and Y for the second task'''\n",
        "\n",
        "pX5_9 = img5_9\n",
        "pY5_9 = y5_9"
      ],
      "execution_count": 139,
      "outputs": []
    },
    {
      "cell_type": "code",
      "metadata": {
        "colab": {
          "base_uri": "https://localhost:8080/"
        },
        "id": "cGVogkKhYCYE",
        "outputId": "da1a6c09-66c8-4af2-a6e4-8c30fafac488"
      },
      "source": [
        "'''Encoding labels 5-9 into 0-4 since the model's last dense (softmax) wont accept values starting from 5'''\n",
        "\n",
        "from sklearn.preprocessing import LabelEncoder\n",
        "\n",
        "encoder2 = LabelEncoder()\n",
        "pY5_9 = encoder2.fit_transform(pY5_9)\n",
        "pY5_9"
      ],
      "execution_count": 140,
      "outputs": [
        {
          "output_type": "execute_result",
          "data": {
            "text/plain": [
              "array([0, 0, 0, ..., 4, 4, 4])"
            ]
          },
          "metadata": {
            "tags": []
          },
          "execution_count": 140
        }
      ]
    },
    {
      "cell_type": "code",
      "metadata": {
        "id": "2FthSShQYCVk"
      },
      "source": [
        "'''Shuffling the pixels'''\n",
        "\n",
        "i = np.arange(pX5_9.shape[1])\n",
        "np.random.shuffle(i)\n",
        "\n",
        "pX5_9 = pX5_9[:, i]"
      ],
      "execution_count": 141,
      "outputs": []
    },
    {
      "cell_type": "code",
      "metadata": {
        "id": "24ahl9-aYCS0"
      },
      "source": [
        "'''splitting data into training and testing data'''\n",
        "\n",
        "pX_train5_9, pX_test5_9, pY_train5_9, pY_test5_9 = train_test_split(pX5_9, pY5_9, test_size=0.2)"
      ],
      "execution_count": 142,
      "outputs": []
    },
    {
      "cell_type": "code",
      "metadata": {
        "id": "2kdTk8drYCPT"
      },
      "source": [
        "'''reshaping inputs to feed to dense layer of network'''\n",
        "\n",
        "pX_train5_9 = pX_train5_9.reshape((-1, 784))\n",
        "pX_test5_9 = pX_test5_9.reshape((-1, 784))"
      ],
      "execution_count": 143,
      "outputs": []
    },
    {
      "cell_type": "code",
      "metadata": {
        "colab": {
          "base_uri": "https://localhost:8080/"
        },
        "id": "m_nj7XHzYCNM",
        "outputId": "03f2c6bf-8cfb-4cb3-c764-894a5e6c7950"
      },
      "source": [
        "'''creating a new model'''\n",
        "\n",
        "modelp5_9 = create_model()\n",
        "\n",
        "modelp5_9.summary()"
      ],
      "execution_count": 144,
      "outputs": [
        {
          "output_type": "stream",
          "text": [
            "Model: \"sequential_11\"\n",
            "_________________________________________________________________\n",
            "Layer (type)                 Output Shape              Param #   \n",
            "=================================================================\n",
            "dense_44 (Dense)             (None, 800)               628000    \n",
            "_________________________________________________________________\n",
            "dropout_33 (Dropout)         (None, 800)               0         \n",
            "_________________________________________________________________\n",
            "dense_45 (Dense)             (None, 800)               640800    \n",
            "_________________________________________________________________\n",
            "dropout_34 (Dropout)         (None, 800)               0         \n",
            "_________________________________________________________________\n",
            "dense_46 (Dense)             (None, 800)               640800    \n",
            "_________________________________________________________________\n",
            "dropout_35 (Dropout)         (None, 800)               0         \n",
            "_________________________________________________________________\n",
            "dense_47 (Dense)             (None, 5)                 4005      \n",
            "=================================================================\n",
            "Total params: 1,913,605\n",
            "Trainable params: 1,913,605\n",
            "Non-trainable params: 0\n",
            "_________________________________________________________________\n"
          ],
          "name": "stdout"
        }
      ]
    },
    {
      "cell_type": "code",
      "metadata": {
        "colab": {
          "base_uri": "https://localhost:8080/"
        },
        "id": "jJPO6tWvYCKh",
        "outputId": "59d3b35d-d576-4263-8e4d-e44d21b800d5"
      },
      "source": [
        "'''compiling and training the model for task 3'''\n",
        "'''Load weights from the previous task so that same model is used'''\n",
        "'''Save weights for initializing the next model'''\n",
        "\n",
        "\n",
        "modelp5_9.compile(loss='sparse_categorical_crossentropy', optimizer = opt, metrics=['accuracy'])\n",
        "\n",
        "modelp5_9.load_weights('/content/drive/MyDrive/552 PROJECT/IMM/task3pmnist0_4.h5')\n",
        "\n",
        "historyp5_9 = modelp5_9.fit(pX_train5_9, pY_train5_9, epochs=50, validation_data = (pX_test5_9, pY_test5_9))\n",
        "\n",
        "modelp5_9.save_weights('/content/drive/MyDrive/552 PROJECT/IMM/task4pmnist5_9.h5')"
      ],
      "execution_count": 145,
      "outputs": [
        {
          "output_type": "stream",
          "text": [
            "Train on 27412 samples, validate on 6853 samples\n",
            "Epoch 1/50\n",
            "27392/27412 [============================>.] - ETA: 0s - loss: 0.2498 - accuracy: 0.9226"
          ],
          "name": "stdout"
        },
        {
          "output_type": "stream",
          "text": [
            "/usr/local/lib/python3.7/dist-packages/tensorflow/python/keras/engine/training.py:2325: UserWarning: `Model.state_updates` will be removed in a future version. This property should not be used in TensorFlow 2.0, as `updates` are applied automatically.\n",
            "  warnings.warn('`Model.state_updates` will be removed in a future version. '\n"
          ],
          "name": "stderr"
        },
        {
          "output_type": "stream",
          "text": [
            "27412/27412 [==============================] - 4s 134us/sample - loss: 0.2496 - accuracy: 0.9226 - val_loss: 0.0854 - val_accuracy: 0.9717\n",
            "Epoch 2/50\n",
            "27412/27412 [==============================] - 3s 120us/sample - loss: 0.1210 - accuracy: 0.9614 - val_loss: 0.0657 - val_accuracy: 0.9804\n",
            "Epoch 3/50\n",
            "27412/27412 [==============================] - 3s 121us/sample - loss: 0.0892 - accuracy: 0.9705 - val_loss: 0.0627 - val_accuracy: 0.9791\n",
            "Epoch 4/50\n",
            "27412/27412 [==============================] - 3s 117us/sample - loss: 0.0742 - accuracy: 0.9764 - val_loss: 0.0530 - val_accuracy: 0.9837\n",
            "Epoch 5/50\n",
            "27412/27412 [==============================] - 3s 119us/sample - loss: 0.0620 - accuracy: 0.9803 - val_loss: 0.0516 - val_accuracy: 0.9845\n",
            "Epoch 6/50\n",
            "27412/27412 [==============================] - 3s 120us/sample - loss: 0.0538 - accuracy: 0.9831 - val_loss: 0.0482 - val_accuracy: 0.9848\n",
            "Epoch 7/50\n",
            "27412/27412 [==============================] - 3s 117us/sample - loss: 0.0497 - accuracy: 0.9838 - val_loss: 0.0465 - val_accuracy: 0.9850\n",
            "Epoch 8/50\n",
            "27412/27412 [==============================] - 3s 121us/sample - loss: 0.0445 - accuracy: 0.9857 - val_loss: 0.0520 - val_accuracy: 0.9848\n",
            "Epoch 9/50\n",
            "27412/27412 [==============================] - 3s 121us/sample - loss: 0.0424 - accuracy: 0.9858 - val_loss: 0.0442 - val_accuracy: 0.9873\n",
            "Epoch 10/50\n",
            "27412/27412 [==============================] - 3s 123us/sample - loss: 0.0384 - accuracy: 0.9876 - val_loss: 0.0485 - val_accuracy: 0.9854\n",
            "Epoch 11/50\n",
            "27412/27412 [==============================] - 3s 122us/sample - loss: 0.0370 - accuracy: 0.9873 - val_loss: 0.0437 - val_accuracy: 0.9869\n",
            "Epoch 12/50\n",
            "27412/27412 [==============================] - 3s 121us/sample - loss: 0.0321 - accuracy: 0.9893 - val_loss: 0.0488 - val_accuracy: 0.9870\n",
            "Epoch 13/50\n",
            "27412/27412 [==============================] - 3s 120us/sample - loss: 0.0303 - accuracy: 0.9903 - val_loss: 0.0468 - val_accuracy: 0.9864\n",
            "Epoch 14/50\n",
            "27412/27412 [==============================] - 3s 123us/sample - loss: 0.0286 - accuracy: 0.9911 - val_loss: 0.0474 - val_accuracy: 0.9866\n",
            "Epoch 15/50\n",
            "27412/27412 [==============================] - 3s 125us/sample - loss: 0.0280 - accuracy: 0.9908 - val_loss: 0.0485 - val_accuracy: 0.9856\n",
            "Epoch 16/50\n",
            "27412/27412 [==============================] - 3s 123us/sample - loss: 0.0263 - accuracy: 0.9909 - val_loss: 0.0477 - val_accuracy: 0.9879\n",
            "Epoch 17/50\n",
            "27412/27412 [==============================] - 3s 120us/sample - loss: 0.0243 - accuracy: 0.9918 - val_loss: 0.0488 - val_accuracy: 0.9861\n",
            "Epoch 18/50\n",
            "27412/27412 [==============================] - 3s 121us/sample - loss: 0.0248 - accuracy: 0.9915 - val_loss: 0.0507 - val_accuracy: 0.9866\n",
            "Epoch 19/50\n",
            "27412/27412 [==============================] - 3s 120us/sample - loss: 0.0271 - accuracy: 0.9916 - val_loss: 0.0458 - val_accuracy: 0.9879\n",
            "Epoch 20/50\n",
            "27412/27412 [==============================] - 3s 122us/sample - loss: 0.0230 - accuracy: 0.9924 - val_loss: 0.0416 - val_accuracy: 0.9886\n",
            "Epoch 21/50\n",
            "27412/27412 [==============================] - 3s 121us/sample - loss: 0.0198 - accuracy: 0.9938 - val_loss: 0.0486 - val_accuracy: 0.9879\n",
            "Epoch 22/50\n",
            "27412/27412 [==============================] - 3s 119us/sample - loss: 0.0213 - accuracy: 0.9934 - val_loss: 0.0442 - val_accuracy: 0.9885\n",
            "Epoch 23/50\n",
            "27412/27412 [==============================] - 3s 120us/sample - loss: 0.0193 - accuracy: 0.9937 - val_loss: 0.0468 - val_accuracy: 0.9877\n",
            "Epoch 24/50\n",
            "27412/27412 [==============================] - 3s 120us/sample - loss: 0.0167 - accuracy: 0.9942 - val_loss: 0.0499 - val_accuracy: 0.9883\n",
            "Epoch 25/50\n",
            "27412/27412 [==============================] - 3s 120us/sample - loss: 0.0172 - accuracy: 0.9941 - val_loss: 0.0437 - val_accuracy: 0.9883\n",
            "Epoch 26/50\n",
            "27412/27412 [==============================] - 3s 121us/sample - loss: 0.0172 - accuracy: 0.9941 - val_loss: 0.0460 - val_accuracy: 0.9885\n",
            "Epoch 27/50\n",
            "27412/27412 [==============================] - 3s 120us/sample - loss: 0.0168 - accuracy: 0.9939 - val_loss: 0.0451 - val_accuracy: 0.9893\n",
            "Epoch 28/50\n",
            "27412/27412 [==============================] - 3s 123us/sample - loss: 0.0184 - accuracy: 0.9946 - val_loss: 0.0464 - val_accuracy: 0.9891\n",
            "Epoch 29/50\n",
            "27412/27412 [==============================] - 3s 121us/sample - loss: 0.0156 - accuracy: 0.9947 - val_loss: 0.0447 - val_accuracy: 0.9892\n",
            "Epoch 30/50\n",
            "27412/27412 [==============================] - 3s 122us/sample - loss: 0.0135 - accuracy: 0.9955 - val_loss: 0.0453 - val_accuracy: 0.9886\n",
            "Epoch 31/50\n",
            "27412/27412 [==============================] - 3s 122us/sample - loss: 0.0172 - accuracy: 0.9947 - val_loss: 0.0456 - val_accuracy: 0.9892\n",
            "Epoch 32/50\n",
            "27412/27412 [==============================] - 3s 120us/sample - loss: 0.0121 - accuracy: 0.9957 - val_loss: 0.0530 - val_accuracy: 0.9872\n",
            "Epoch 33/50\n",
            "27412/27412 [==============================] - 3s 119us/sample - loss: 0.0133 - accuracy: 0.9958 - val_loss: 0.0451 - val_accuracy: 0.9905\n",
            "Epoch 34/50\n",
            "27412/27412 [==============================] - 3s 119us/sample - loss: 0.0150 - accuracy: 0.9950 - val_loss: 0.0578 - val_accuracy: 0.9867\n",
            "Epoch 35/50\n",
            "27412/27412 [==============================] - 3s 122us/sample - loss: 0.0116 - accuracy: 0.9962 - val_loss: 0.0517 - val_accuracy: 0.9883\n",
            "Epoch 36/50\n",
            "27412/27412 [==============================] - 3s 121us/sample - loss: 0.0113 - accuracy: 0.9965 - val_loss: 0.0477 - val_accuracy: 0.9889\n",
            "Epoch 37/50\n",
            "27412/27412 [==============================] - 3s 121us/sample - loss: 0.0115 - accuracy: 0.9961 - val_loss: 0.0468 - val_accuracy: 0.9898\n",
            "Epoch 38/50\n",
            "27412/27412 [==============================] - 3s 122us/sample - loss: 0.0128 - accuracy: 0.9956 - val_loss: 0.0422 - val_accuracy: 0.9899\n",
            "Epoch 39/50\n",
            "27412/27412 [==============================] - 3s 123us/sample - loss: 0.0152 - accuracy: 0.9953 - val_loss: 0.0467 - val_accuracy: 0.9886\n",
            "Epoch 40/50\n",
            "27412/27412 [==============================] - 3s 122us/sample - loss: 0.0122 - accuracy: 0.9962 - val_loss: 0.0453 - val_accuracy: 0.9885\n",
            "Epoch 41/50\n",
            "27412/27412 [==============================] - 3s 121us/sample - loss: 0.0095 - accuracy: 0.9966 - val_loss: 0.0458 - val_accuracy: 0.9891\n",
            "Epoch 42/50\n",
            "27412/27412 [==============================] - 3s 120us/sample - loss: 0.0099 - accuracy: 0.9966 - val_loss: 0.0542 - val_accuracy: 0.9882\n",
            "Epoch 43/50\n",
            "27412/27412 [==============================] - 3s 122us/sample - loss: 0.0108 - accuracy: 0.9964 - val_loss: 0.0489 - val_accuracy: 0.9896\n",
            "Epoch 44/50\n",
            "27412/27412 [==============================] - 3s 121us/sample - loss: 0.0105 - accuracy: 0.9966 - val_loss: 0.0491 - val_accuracy: 0.9888\n",
            "Epoch 45/50\n",
            "27412/27412 [==============================] - 3s 121us/sample - loss: 0.0081 - accuracy: 0.9968 - val_loss: 0.0467 - val_accuracy: 0.9901\n",
            "Epoch 46/50\n",
            "27412/27412 [==============================] - 3s 121us/sample - loss: 0.0085 - accuracy: 0.9971 - val_loss: 0.0492 - val_accuracy: 0.9891\n",
            "Epoch 47/50\n",
            "27412/27412 [==============================] - 3s 122us/sample - loss: 0.0105 - accuracy: 0.9964 - val_loss: 0.0487 - val_accuracy: 0.9896\n",
            "Epoch 48/50\n",
            "27412/27412 [==============================] - 4s 128us/sample - loss: 0.0109 - accuracy: 0.9963 - val_loss: 0.0501 - val_accuracy: 0.9891\n",
            "Epoch 49/50\n",
            "27412/27412 [==============================] - 3s 122us/sample - loss: 0.0097 - accuracy: 0.9968 - val_loss: 0.0503 - val_accuracy: 0.9893\n",
            "Epoch 50/50\n",
            "27412/27412 [==============================] - 3s 123us/sample - loss: 0.0088 - accuracy: 0.9973 - val_loss: 0.0473 - val_accuracy: 0.9902\n"
          ],
          "name": "stdout"
        }
      ]
    },
    {
      "cell_type": "code",
      "metadata": {
        "colab": {
          "base_uri": "https://localhost:8080/",
          "height": 267
        },
        "id": "u8WkTpFSYCIh",
        "outputId": "c7ff94cd-b99d-41cb-f46a-0cacf8756097"
      },
      "source": [
        "'''Plotting the accuracy over training period'''\n",
        "\n",
        "plot(historyp5_9)"
      ],
      "execution_count": 146,
      "outputs": [
        {
          "output_type": "display_data",
          "data": {
            "image/png": "[encoded data removed]",
            "text/plain": [
              "<Figure size 432x288 with 1 Axes>"
            ]
          },
          "metadata": {
            "tags": [],
            "needs_background": "light"
          }
        }
      ]
    },
    {
      "cell_type": "markdown",
      "metadata": {
        "id": "R5-NOWVbZ0dD"
      },
      "source": [
        "# Checking accuracy change on Task A with IMM_Mean"
      ]
    },
    {
      "cell_type": "code",
      "metadata": {
        "id": "Evi5Sb_DmjIN"
      },
      "source": [
        "'''creating dictionary to save model weights and bias by layer'''\n",
        "\n",
        "def create_parameter_dict(layers, params):  \n",
        "  model_dict = {1:[], 2:[], 3:[], 4:[]}\n",
        "  p = 0\n",
        "  for layer in range(1, layers+1): \n",
        "    model_dict[layer].append(params[p])\n",
        "    model_dict[layer].append(params[p+1])\n",
        "    p = p + 2\n",
        "  return model_dict"
      ],
      "execution_count": 147,
      "outputs": []
    },
    {
      "cell_type": "code",
      "metadata": {
        "id": "4HIqXSI5nEu3"
      },
      "source": [
        "'''creating array of weights and bias for all models (weights format)'''\n",
        "\n",
        "def create_new_model(layers, models):\n",
        "  \n",
        "  no_of_models = len(models)\n",
        "  new_model = {}\n",
        "\n",
        "\n",
        "  # creating new model parameter dictionary\n",
        "  for layer in range(1, layers+1):\n",
        "    new_model[layer] = []\n",
        "  \n",
        "\n",
        "  for layer in range(1, layers+1): # loop layer by layer\n",
        "    weights = 0\n",
        "    for n in range(no_of_models): # summation of same layer for all models\n",
        "      weights = weights + models[n][layer][0]\n",
        "    \n",
        "    weights = weights / no_of_models\n",
        "    new_model[layer].append(weights)\n",
        "    \n",
        "\n",
        "  for layer in range(1, layers+1): # loop layer by layer\n",
        "    bias = 0\n",
        "    for n in range(no_of_models): # summation of same layer for all models\n",
        "      bias = bias + models[n][layer][1]    \n",
        "    \n",
        "    bias = bias / no_of_models\n",
        "    new_model[layer].append(bias)\n",
        "  \n",
        "  # returning new model weights\n",
        "  return new_model"
      ],
      "execution_count": 148,
      "outputs": []
    },
    {
      "cell_type": "code",
      "metadata": {
        "id": "NV6JY_8uZ48N"
      },
      "source": [
        "'''Creating model_weight dictionaries'''\n",
        "\n",
        "nlayers = 4\n",
        "\n",
        "params0_4 = model0_4.get_weights()\n",
        "model0_4_dict = create_parameter_dict(nlayers, params0_4)\n",
        "\n",
        "params5_9 = model5_9.get_weights()\n",
        "model5_9_dict = create_parameter_dict(nlayers, params5_9)\n",
        "\n",
        "paramsP0_4 = modelp0_4.get_weights()\n",
        "modelP0_4_dict = create_parameter_dict(nlayers, paramsP0_4)\n",
        "\n",
        "paramsP5_9 = modelp0_4.get_weights()\n",
        "modelP5_9_dict = create_parameter_dict(nlayers, paramsP5_9)"
      ],
      "execution_count": 149,
      "outputs": []
    },
    {
      "cell_type": "code",
      "metadata": {
        "id": "HdbvB8xenEsL"
      },
      "source": [
        "'''creating arrays of weights and biases'''\n",
        "\n",
        "after2tasks_model_dict = create_new_model(nlayers, [model0_4_dict, model5_9_dict])\n",
        "after2tasks_model = []\n",
        "for i in after2tasks_model_dict.keys():\n",
        "  after2tasks_model.append(after2tasks_model_dict[i][0])\n",
        "  after2tasks_model.append(after2tasks_model_dict[i][1])"
      ],
      "execution_count": 150,
      "outputs": []
    },
    {
      "cell_type": "code",
      "metadata": {
        "id": "Y7KxrHJxnEo6"
      },
      "source": [
        "'''creating arrays of weights and biases'''\n",
        "\n",
        "after3tasks_model_dict = create_new_model(nlayers, [model0_4_dict, model5_9_dict, modelP0_4_dict])\n",
        "after3tasks_model = []\n",
        "for i in after3tasks_model_dict.keys():\n",
        "  after3tasks_model.append(after3tasks_model_dict[i][0])\n",
        "  after3tasks_model.append(after3tasks_model_dict[i][1])"
      ],
      "execution_count": 151,
      "outputs": []
    },
    {
      "cell_type": "code",
      "metadata": {
        "id": "vQwAV8OanEm1"
      },
      "source": [
        "'''creating arrays of weights and biases'''\n",
        "\n",
        "after4tasks_model_dict = create_new_model(nlayers, [model0_4_dict, model5_9_dict, modelP0_4_dict, modelP5_9_dict])\n",
        "after4tasks_model = []\n",
        "for i in after4tasks_model_dict.keys():\n",
        "  after4tasks_model.append(after4tasks_model_dict[i][0])\n",
        "  after4tasks_model.append(after4tasks_model_dict[i][1])"
      ],
      "execution_count": 152,
      "outputs": []
    },
    {
      "cell_type": "code",
      "metadata": {
        "id": "sTIecCnMpSbg"
      },
      "source": [
        "'''creating 3 new models for evaluating performance on Task A after training on:\n",
        "(i) Task B\n",
        "(ii) Task B and Task C\n",
        "(iii) Task B, Task C and Task D'''\n",
        "\n",
        "imm2 = create_model()\n",
        "imm3 = create_model()\n",
        "imm4 = create_model()"
      ],
      "execution_count": 153,
      "outputs": []
    },
    {
      "cell_type": "code",
      "metadata": {
        "id": "_nQbUANlzNlr"
      },
      "source": [
        "'''Initializing weights and biases for newly created models'''\n",
        "\n",
        "def set_model_weights(new_model, weights):\n",
        "  lc = 0\n",
        "  for i in range(0, 8, 2):\n",
        "    layer = []\n",
        "    layer.append(weights[i])\n",
        "    layer.append(weights[i+1])\n",
        "    new_model.layers[lc].set_weights(layer)\n",
        "    lc = lc + 2\n",
        "  return new_model"
      ],
      "execution_count": 154,
      "outputs": []
    },
    {
      "cell_type": "code",
      "metadata": {
        "id": "AkarqMNyzrvL"
      },
      "source": [
        "'''Initialize models with appropriate weights and biases'''\n",
        "\n",
        "imm2 = set_model_weights(imm2, after2tasks_model)\n",
        "imm3 = set_model_weights(imm3, after3tasks_model)\n",
        "imm4 = set_model_weights(imm4, after4tasks_model)"
      ],
      "execution_count": 155,
      "outputs": []
    },
    {
      "cell_type": "code",
      "metadata": {
        "colab": {
          "base_uri": "https://localhost:8080/"
        },
        "id": "2U7gxNTmv_CL",
        "outputId": "c8e4bbfb-f510-4c58-f07b-d3010fb4ea43"
      },
      "source": [
        "'''evaluating accuracy after training on task b'''\n",
        "\n",
        "imm2.compile(loss='sparse_categorical_crossentropy', optimizer = opt, metrics=['accuracy'])\n",
        "imm2_accuracy = round(imm2.evaluate(x_test0_4, y_test0_4)[1]*100, 2)\n",
        "imm2_accuracy"
      ],
      "execution_count": 156,
      "outputs": [
        {
          "output_type": "stream",
          "text": [
            "/usr/local/lib/python3.7/dist-packages/tensorflow/python/keras/engine/training.py:2325: UserWarning: `Model.state_updates` will be removed in a future version. This property should not be used in TensorFlow 2.0, as `updates` are applied automatically.\n",
            "  warnings.warn('`Model.state_updates` will be removed in a future version. '\n"
          ],
          "name": "stderr"
        },
        {
          "output_type": "execute_result",
          "data": {
            "text/plain": [
              "93.98"
            ]
          },
          "metadata": {
            "tags": []
          },
          "execution_count": 156
        }
      ]
    },
    {
      "cell_type": "code",
      "metadata": {
        "colab": {
          "base_uri": "https://localhost:8080/"
        },
        "id": "8ucvOyreyY6Q",
        "outputId": "a947fa92-07c7-4f8f-821b-9883be3b40d5"
      },
      "source": [
        "'''evaluating accuracy after training on task b and task c'''\n",
        "\n",
        "imm3.compile(loss='sparse_categorical_crossentropy', optimizer = opt, metrics=['accuracy'])\n",
        "imm3_accuracy = round(imm3.evaluate(x_test0_4, y_test0_4)[1]*100, 2)\n",
        "imm3_accuracy"
      ],
      "execution_count": 157,
      "outputs": [
        {
          "output_type": "stream",
          "text": [
            "/usr/local/lib/python3.7/dist-packages/tensorflow/python/keras/engine/training.py:2325: UserWarning: `Model.state_updates` will be removed in a future version. This property should not be used in TensorFlow 2.0, as `updates` are applied automatically.\n",
            "  warnings.warn('`Model.state_updates` will be removed in a future version. '\n"
          ],
          "name": "stderr"
        },
        {
          "output_type": "execute_result",
          "data": {
            "text/plain": [
              "83.36"
            ]
          },
          "metadata": {
            "tags": []
          },
          "execution_count": 157
        }
      ]
    },
    {
      "cell_type": "code",
      "metadata": {
        "colab": {
          "base_uri": "https://localhost:8080/"
        },
        "id": "5mG-g03zyrav",
        "outputId": "8602723e-ef76-401a-d9df-8e73b11f722a"
      },
      "source": [
        "'''evaluating accuracy after training on task b, task c and task d'''\n",
        "\n",
        "imm4.compile(loss='sparse_categorical_crossentropy', optimizer = opt, metrics=['accuracy'])\n",
        "imm4_accuracy = round(imm4.evaluate(x_test0_4, y_test0_4)[1]*100, 2)\n",
        "imm4_accuracy"
      ],
      "execution_count": 158,
      "outputs": [
        {
          "output_type": "stream",
          "text": [
            "/usr/local/lib/python3.7/dist-packages/tensorflow/python/keras/engine/training.py:2325: UserWarning: `Model.state_updates` will be removed in a future version. This property should not be used in TensorFlow 2.0, as `updates` are applied automatically.\n",
            "  warnings.warn('`Model.state_updates` will be removed in a future version. '\n"
          ],
          "name": "stderr"
        },
        {
          "output_type": "execute_result",
          "data": {
            "text/plain": [
              "77.26"
            ]
          },
          "metadata": {
            "tags": []
          },
          "execution_count": 158
        }
      ]
    },
    {
      "cell_type": "code",
      "metadata": {
        "colab": {
          "base_uri": "https://localhost:8080/"
        },
        "id": "H2nK-xlM1ue0",
        "outputId": "174c660d-f1b8-411e-887b-27ce3c9210c4"
      },
      "source": [
        "original_acc = round(model0_4.evaluate(x_test0_4, y_test0_4)[1]*100, 2)\n",
        "original_acc"
      ],
      "execution_count": 159,
      "outputs": [
        {
          "output_type": "execute_result",
          "data": {
            "text/plain": [
              "99.41"
            ]
          },
          "metadata": {
            "tags": []
          },
          "execution_count": 159
        }
      ]
    },
    {
      "cell_type": "code",
      "metadata": {
        "id": "y1196Lwv18yU"
      },
      "source": [
        "accuracies = [original_acc, imm2_accuracy, imm3_accuracy, imm4_accuracy]"
      ],
      "execution_count": 160,
      "outputs": []
    },
    {
      "cell_type": "code",
      "metadata": {
        "colab": {
          "base_uri": "https://localhost:8080/",
          "height": 369
        },
        "id": "8vsbJ6itZ4tj",
        "outputId": "cc5838e8-2485-417f-f55f-aef19994dfab"
      },
      "source": [
        "fig, ax = plt.subplots()\n",
        "\n",
        "fig.set_size_inches(7, 5, forward=True)\n",
        "\n",
        "x = ['Original Accuracy', 'After Task 2', 'After Task 3', 'After Task 4']\n",
        "y = accuracies\n",
        "\n",
        "# Save the chart so we can loop through the bars below.\n",
        "bars = ax.bar(\n",
        "    x = x,\n",
        "    height=y,\n",
        "    tick_label=x\n",
        ")\n",
        "\n",
        "# Axis formatting.\n",
        "ax.spines['top'].set_visible(True)\n",
        "ax.spines['right'].set_visible(True)\n",
        "ax.spines['left'].set_visible(True)\n",
        "ax.spines['bottom'].set_color('#DDDDDE')\n",
        "ax.tick_params(bottom=False, left=True)\n",
        "ax.set_axisbelow(True)\n",
        "ax.yaxis.grid(True, color='#EEEEEE')\n",
        "ax.xaxis.grid(True)\n",
        "\n",
        "# Add text annotations to the top of the bars.\n",
        "bar_color = bars[0].get_facecolor()\n",
        "for bar in bars:\n",
        "  ax.text(\n",
        "      bar.get_x() + bar.get_width() / 2,\n",
        "      bar.get_height() + 0.3,\n",
        "      round(bar.get_height(), 1),\n",
        "      horizontalalignment='center',\n",
        "      color='black'\n",
        "      #weight='bold'\n",
        "  )\n",
        "\n",
        "# Add labels and a title. Note the use of `labelpad` and `pad` to add some\n",
        "# extra space between the text and the tick labels.\n",
        "#ax.set_xlabel('Different methods', labelpad=15, color='#333333')\n",
        "ax.set_ylabel('Accuracy', labelpad=15, color='#333333')\n",
        "ax.set_title('Demonstration of Catastrophic Forgetting', pad=15, color='#333333',\n",
        "             weight='bold')\n",
        "\n",
        "fig.tight_layout()"
      ],
      "execution_count": 161,
      "outputs": [
        {
          "output_type": "display_data",
          "data": {
            "image/png": "[encoded data removed]",
            "text/plain": [
              "<Figure size 504x360 with 1 Axes>"
            ]
          },
          "metadata": {
            "tags": [],
            "needs_background": "light"
          }
        }
      ]
    },
    {
      "cell_type": "code",
      "metadata": {
        "colab": {
          "base_uri": "https://localhost:8080/",
          "height": 295
        },
        "id": "rRsR8LDRbskH",
        "outputId": "72d7c0ff-0c2b-454e-ec1e-e60dcbbcbaab"
      },
      "source": [
        "\n",
        "plt.title('Accuracy of the model on task A')\n",
        "plt.plot([1,2,3,4], accuracies, color='blue', marker='o', linestyle='dashed', linewidth=2, markersize=12)\n",
        "plt.xticks([1,2,3,4])\n",
        "plt.xlabel('Tasks')\n",
        "plt.ylabel('Accuracy')\n",
        "plt.grid(True)"
      ],
      "execution_count": 162,
      "outputs": [
        {
          "output_type": "display_data",
          "data": {
            "image/png": "[encoded data removed]",
            "text/plain": [
              "<Figure size 432x288 with 1 Axes>"
            ]
          },
          "metadata": {
            "tags": [],
            "needs_background": "light"
          }
        }
      ]
    },
    {
      "cell_type": "code",
      "metadata": {
        "id": "yaA21ubb2Do0"
      },
      "source": [
        ""
      ],
      "execution_count": 162,
      "outputs": []
    }
  ]
}