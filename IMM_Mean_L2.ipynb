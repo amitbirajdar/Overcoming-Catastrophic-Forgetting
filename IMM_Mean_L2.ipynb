{
  "nbformat": 4,
  "nbformat_minor": 0,
  "metadata": {
    "accelerator": "GPU",
    "colab": {
      "name": "IMM_Mean.ipynb",
      "provenance": [],
      "collapsed_sections": []
    },
    "kernelspec": {
      "display_name": "Python 3",
      "name": "python3"
    },
    "language_info": {
      "name": "python"
    }
  },
  "cells": [
    {
      "cell_type": "code",
      "metadata": {
        "colab": {
          "base_uri": "https://localhost:8080/"
        },
        "id": "MYBlnSI0BJqu",
        "outputId": "47470241-730b-4fe5-87af-db093ccd20a3"
      },
      "source": [
        "from google.colab import drive\n",
        "drive.mount('/content/drive')"
      ],
      "execution_count": null,
      "outputs": [
        {
          "output_type": "stream",
          "text": [
            "Drive already mounted at /content/drive; to attempt to forcibly remount, call drive.mount(\"/content/drive\", force_remount=True).\n"
          ],
          "name": "stdout"
        }
      ]
    },
    {
      "cell_type": "code",
      "metadata": {
        "id": "KSLIvmiq9hHS"
      },
      "source": [
        "'''Importing necessary libraries'''\n",
        "\n",
        "import numpy as np\n",
        "import matplotlib.pyplot as plt\n",
        "from numpy import random\n",
        "\n",
        "import tensorflow as tf\n",
        "from tensorflow.keras import layers, models\n",
        "from tensorflow.keras import utils as np_utils\n",
        "from tensorflow.python.framework.ops import disable_eager_execution\n",
        "\n",
        "from keras.datasets import mnist\n",
        "from keras.optimizers import SGD\n",
        "\n",
        "from sklearn.model_selection import train_test_split"
      ],
      "execution_count": null,
      "outputs": []
    },
    {
      "cell_type": "code",
      "metadata": {
        "id": "vGZVtOAUoEQ1"
      },
      "source": [
        "disable_eager_execution()"
      ],
      "execution_count": null,
      "outputs": []
    },
    {
      "cell_type": "code",
      "metadata": {
        "id": "xOjv6Eli5f93"
      },
      "source": [
        "random.seed(7)"
      ],
      "execution_count": null,
      "outputs": []
    },
    {
      "cell_type": "code",
      "metadata": {
        "id": "lnmblXIy9vib"
      },
      "source": [
        "'''loading MNIST dataset'''\n",
        "\n",
        "(x_trainA, y_trainA), (x_testA, y_testA) = mnist.load_data()"
      ],
      "execution_count": null,
      "outputs": []
    },
    {
      "cell_type": "code",
      "metadata": {
        "id": "Jse1kI9kpOXf"
      },
      "source": [
        "'''Concatenating into one single data for preprocessing'''\n",
        "\n",
        "X = np.concatenate((x_trainA,x_testA), axis=0)\n",
        "Y = np.concatenate((y_trainA,y_testA), axis=0)"
      ],
      "execution_count": null,
      "outputs": []
    },
    {
      "cell_type": "code",
      "metadata": {
        "colab": {
          "base_uri": "https://localhost:8080/"
        },
        "id": "tJ0j7TMiqPBW",
        "outputId": "e050c6f3-5d66-43be-a6e4-09fba6e9a109"
      },
      "source": [
        "X.shape, Y.shape"
      ],
      "execution_count": null,
      "outputs": [
        {
          "output_type": "execute_result",
          "data": {
            "text/plain": [
              "((70000, 28, 28), (70000,))"
            ]
          },
          "metadata": {
            "tags": []
          },
          "execution_count": 29
        }
      ]
    },
    {
      "cell_type": "code",
      "metadata": {
        "id": "jEuxeHm6v1P4"
      },
      "source": [
        "'''Normalizing the pixel values'''\n",
        "\n",
        "X = X / 255.0"
      ],
      "execution_count": null,
      "outputs": []
    },
    {
      "cell_type": "code",
      "metadata": {
        "id": "wFNsM2B-93ff"
      },
      "source": [
        "'''splitting MNIST into two partitions (0-4) and (5-9)'''\n",
        "\n",
        "'''Getting indexes '''\n",
        "idx0_4, idx5_9 = [], []\n",
        "\n",
        "for i in range(0,10):\n",
        "  if i < 5:\n",
        "    idx0_4.append(np.where(Y==i)) # filter mnist data for 0-4\n",
        "  else:\n",
        "    idx5_9.append(np.where(Y==i)) # filter mnist data for 5-9"
      ],
      "execution_count": null,
      "outputs": []
    },
    {
      "cell_type": "code",
      "metadata": {
        "id": "hB3JlIC3uKPb"
      },
      "source": [
        "'''Combining labels for the two partitions'''\n",
        "\n",
        "index0_4 = np.concatenate((idx0_4[0][0], idx0_4[1][0], idx0_4[2][0], idx0_4[3][0], idx0_4[4][0]), axis=0)\n",
        "index5_9 = np.concatenate((idx5_9[0][0], idx5_9[1][0], idx5_9[2][0], idx5_9[3][0], idx5_9[4][0]), axis=0)"
      ],
      "execution_count": null,
      "outputs": []
    },
    {
      "cell_type": "code",
      "metadata": {
        "id": "Xixefae4y4ql"
      },
      "source": [
        "'''Getting labels'''\n",
        "\n",
        "y0_4 = Y[index0_4]\n",
        "y5_9 = Y[index5_9]"
      ],
      "execution_count": null,
      "outputs": []
    },
    {
      "cell_type": "code",
      "metadata": {
        "colab": {
          "base_uri": "https://localhost:8080/"
        },
        "id": "rt_Js5Qks_Eg",
        "outputId": "c1fa5e5b-055f-4aa7-92ff-a30ef3173378"
      },
      "source": [
        "'''Getting corresponding images'''\n",
        "\n",
        "img0_4 = X[[index0_4]] # get mnist data for 0-4\n",
        "img5_9 = X[[index5_9]] # get mnist data for 5-9\n",
        "\n",
        "img0_4.shape, img5_9.shape"
      ],
      "execution_count": null,
      "outputs": [
        {
          "output_type": "stream",
          "text": [
            "/usr/local/lib/python3.7/dist-packages/ipykernel_launcher.py:3: FutureWarning: Using a non-tuple sequence for multidimensional indexing is deprecated; use `arr[tuple(seq)]` instead of `arr[seq]`. In the future this will be interpreted as an array index, `arr[np.array(seq)]`, which will result either in an error or a different result.\n",
            "  This is separate from the ipykernel package so we can avoid doing imports until\n",
            "/usr/local/lib/python3.7/dist-packages/ipykernel_launcher.py:4: FutureWarning: Using a non-tuple sequence for multidimensional indexing is deprecated; use `arr[tuple(seq)]` instead of `arr[seq]`. In the future this will be interpreted as an array index, `arr[np.array(seq)]`, which will result either in an error or a different result.\n",
            "  after removing the cwd from sys.path.\n"
          ],
          "name": "stderr"
        },
        {
          "output_type": "execute_result",
          "data": {
            "text/plain": [
              "((35735, 28, 28), (34265, 28, 28))"
            ]
          },
          "metadata": {
            "tags": []
          },
          "execution_count": 34
        }
      ]
    },
    {
      "cell_type": "code",
      "metadata": {
        "id": "bEwF4mUmLwkr"
      },
      "source": [
        "'''Creating a MLP'''\n",
        "\n",
        "def create_model():\n",
        "  model = models.Sequential([\n",
        "      layers.Dense(800, activation='relu', input_dim=784),\n",
        "      layers.Dropout(0.5),\n",
        "      layers.Dense(800, activation='relu'),\n",
        "      layers.Dropout(0.5),\n",
        "      layers.Dense(800, activation='relu'),\n",
        "      layers.Dropout(0.5),\n",
        "      layers.Dense(5, activation='softmax'),\n",
        "      \n",
        "  ])\n",
        "  return model"
      ],
      "execution_count": 80,
      "outputs": []
    },
    {
      "cell_type": "code",
      "metadata": {
        "id": "9oSBw92Jxcvi"
      },
      "source": [
        "'''Setting up optimizer'''\n",
        "\n",
        "from keras.optimizers import Adam\n",
        "opt = SGD(lr=0.05)\n",
        "batch_size = 64\n",
        "patience = 5\n",
        "clipgrad = 10000"
      ],
      "execution_count": null,
      "outputs": []
    },
    {
      "cell_type": "code",
      "metadata": {
        "id": "4t_T4ktQY5WB"
      },
      "source": [
        "'''Function for plotting training and validation accuracy'''\n",
        "\n",
        "def plot(history):\n",
        "  plt.plot(history.history['accuracy'])\n",
        "  plt.plot(history.history['val_accuracy'])\n",
        "  plt.legend(['acc', 'val_acc'])\n",
        "  plt.grid(True)"
      ],
      "execution_count": null,
      "outputs": []
    },
    {
      "cell_type": "code",
      "metadata": {
        "id": "OPFetTJ0Y_xA"
      },
      "source": [
        "'''Function to compile and fit model'''\n",
        "\n",
        "def compile_and_fit(model, xa, xb, validation_data, epochs, loss, filename):\n",
        "  model.compile(optimizer = opt, loss=loss, metrics=['accuracy'])\n",
        "  history = model.fit(xa, xb, epochs=epochs, validation_data=validation_data)\n",
        "  model.save_weights(f'/content/drive/MyDrive/552 PROJECT/IMM/{filename}.h5')\n",
        "  return model, history"
      ],
      "execution_count": null,
      "outputs": []
    },
    {
      "cell_type": "code",
      "metadata": {
        "id": "iI-vuHenlb8v"
      },
      "source": [
        "import numpy as np\n",
        "import keras.backend as K\n",
        "from keras.regularizers import Regularizer\n",
        "\n",
        "class L2reg(Regularizer):\n",
        "    def __init__(self, prior_weights, Lambda=0.1):\n",
        "        self.prior_weights = prior_weights\n",
        "        self.Lambda = Lambda\n",
        "\n",
        "    def __call__(self, x):\n",
        "        regularization = 0.\n",
        "        regularization = regularization + self.Lambda * K.sum(K.square(x - self.prior_weights))\n",
        "        return regularization\n",
        "\n",
        "    def get_config(self):\n",
        "        return {'Lambda': float(self.Lambda)}"
      ],
      "execution_count": null,
      "outputs": []
    },
    {
      "cell_type": "markdown",
      "metadata": {
        "id": "hXMD3GcrvihV"
      },
      "source": [
        "# Task 1: Training on MNIST (0-4)"
      ]
    },
    {
      "cell_type": "code",
      "metadata": {
        "id": "-9njd5HxH-nH"
      },
      "source": [
        "'''Setting up X and Y for the first task'''\n",
        "\n",
        "X0_4 = img0_4\n",
        "Y0_4 = y0_4"
      ],
      "execution_count": null,
      "outputs": []
    },
    {
      "cell_type": "code",
      "metadata": {
        "id": "_YgXjdWfv54R"
      },
      "source": [
        "'''Splitting the data into training and testing data'''\n",
        "\n",
        "x_train0_4, x_test0_4, y_train0_4, y_test0_4 = train_test_split(X0_4, Y0_4, test_size=0.2)"
      ],
      "execution_count": null,
      "outputs": []
    },
    {
      "cell_type": "code",
      "metadata": {
        "colab": {
          "base_uri": "https://localhost:8080/"
        },
        "id": "mFCGMqPawY8v",
        "outputId": "264bf78f-94af-4565-cc55-88aeb6bc1e5b"
      },
      "source": [
        "x_train0_4.shape, y_train0_4.shape, x_test0_4.shape, y_test0_4.shape"
      ],
      "execution_count": null,
      "outputs": [
        {
          "output_type": "execute_result",
          "data": {
            "text/plain": [
              "((28588, 28, 28), (28588,), (7147, 28, 28), (7147,))"
            ]
          },
          "metadata": {
            "tags": []
          },
          "execution_count": 42
        }
      ]
    },
    {
      "cell_type": "code",
      "metadata": {
        "id": "tPRTGEvEtube"
      },
      "source": [
        "'''reshaping inputs to feed to dense layer of network'''\n",
        "\n",
        "x_train0_4 = x_train0_4.reshape((-1, 784))\n",
        "x_test0_4 = x_test0_4.reshape((-1, 784))"
      ],
      "execution_count": null,
      "outputs": []
    },
    {
      "cell_type": "code",
      "metadata": {
        "colab": {
          "base_uri": "https://localhost:8080/"
        },
        "id": "9drlTUFPDSSH",
        "outputId": "1ad8954b-7103-4166-82c3-72c85eb2a96a"
      },
      "source": [
        "model0_4 = models.Sequential([\n",
        "    layers.Dense(800, input_dim = 784, activation='relu'),#, kernel_regularizer=L2reg(model0_4.weights[0]), bias_regularizer=L2reg(model0_4.weights[1])),\n",
        "    layers.Dropout(0.5),\n",
        "    layers.Dense(800, activation='relu'),#, kernel_regularizer = L2reg(model0_4.weights[2]), bias_regularizer = L2reg(model0_4.weights[3])),\n",
        "    layers.Dropout(0.5),\n",
        "    layers.Dense(800, activation='relu'),# kernel_regularizer = L2reg(model0_4.weights[4]), bias_regularizer = L2reg(model0_4.weights[5])),\n",
        "    layers.Dropout(0.5),\n",
        "    layers.Dense(5, activation='softmax'),# kernel_regularizer = L2reg(model0_4.weights[6]), bias_regularizer= L2reg(model0_4.weights[7]))\n",
        "])\n",
        "model0_4.summary()"
      ],
      "execution_count": null,
      "outputs": [
        {
          "output_type": "stream",
          "text": [
            "Model: \"sequential_1\"\n",
            "_________________________________________________________________\n",
            "Layer (type)                 Output Shape              Param #   \n",
            "=================================================================\n",
            "dense_4 (Dense)              (None, 800)               628000    \n",
            "_________________________________________________________________\n",
            "dropout_3 (Dropout)          (None, 800)               0         \n",
            "_________________________________________________________________\n",
            "dense_5 (Dense)              (None, 800)               640800    \n",
            "_________________________________________________________________\n",
            "dropout_4 (Dropout)          (None, 800)               0         \n",
            "_________________________________________________________________\n",
            "dense_6 (Dense)              (None, 800)               640800    \n",
            "_________________________________________________________________\n",
            "dropout_5 (Dropout)          (None, 800)               0         \n",
            "_________________________________________________________________\n",
            "dense_7 (Dense)              (None, 5)                 4005      \n",
            "=================================================================\n",
            "Total params: 1,913,605\n",
            "Trainable params: 1,913,605\n",
            "Non-trainable params: 0\n",
            "_________________________________________________________________\n"
          ],
          "name": "stdout"
        }
      ]
    },
    {
      "cell_type": "code",
      "metadata": {
        "colab": {
          "background_save": true,
          "base_uri": "https://localhost:8080/"
        },
        "id": "jQ1_3J0fEY15",
        "outputId": "ec3b0c84-ce2f-48c3-ba14-f0000a8dde30"
      },
      "source": [
        "'''Compiling and training the model on task 1'''\n",
        "'''Save weights for initializing the next model'''\n",
        "\n",
        "model0_4.compile(loss='sparse_categorical_crossentropy', optimizer = opt, metrics=['accuracy'])\n",
        "\n",
        "history0_4 = model0_4.fit(x_train0_4, y_train0_4, epochs=50, validation_data = (x_test0_4, y_test0_4))\n",
        "\n",
        "model0_4.save('model0_4')\n",
        "model0_4.save_weights('/content/drive/MyDrive/552 PROJECT/IMM/task1mnist0_4.h5')"
      ],
      "execution_count": null,
      "outputs": [
        {
          "output_type": "stream",
          "text": [
            "Train on 28588 samples, validate on 7147 samples\n",
            "Epoch 1/50\n",
            "28544/28588 [============================>.] - ETA: 0s - loss: 0.2247 - accuracy: 0.9284"
          ],
          "name": "stdout"
        },
        {
          "output_type": "stream",
          "text": [
            "/usr/local/lib/python3.7/dist-packages/tensorflow/python/keras/engine/training.py:2325: UserWarning: `Model.state_updates` will be removed in a future version. This property should not be used in TensorFlow 2.0, as `updates` are applied automatically.\n",
            "  warnings.warn('`Model.state_updates` will be removed in a future version. '\n"
          ],
          "name": "stderr"
        },
        {
          "output_type": "stream",
          "text": [
            "28588/28588 [==============================] - 18s 626us/sample - loss: 0.2245 - accuracy: 0.9284 - val_loss: 0.0853 - val_accuracy: 0.9723\n",
            "Epoch 2/50\n",
            "28588/28588 [==============================] - 18s 627us/sample - loss: 0.0893 - accuracy: 0.9724 - val_loss: 0.0635 - val_accuracy: 0.9790\n",
            "Epoch 3/50\n",
            "28588/28588 [==============================] - 18s 626us/sample - loss: 0.0647 - accuracy: 0.9806 - val_loss: 0.0493 - val_accuracy: 0.9854\n",
            "Epoch 4/50\n",
            "28588/28588 [==============================] - 18s 627us/sample - loss: 0.0515 - accuracy: 0.9846 - val_loss: 0.0469 - val_accuracy: 0.9849\n",
            "Epoch 5/50\n",
            "28588/28588 [==============================] - 18s 626us/sample - loss: 0.0448 - accuracy: 0.9865 - val_loss: 0.0387 - val_accuracy: 0.9888\n",
            "Epoch 6/50\n",
            "28588/28588 [==============================] - 18s 637us/sample - loss: 0.0377 - accuracy: 0.9883 - val_loss: 0.0348 - val_accuracy: 0.9899\n",
            "Epoch 7/50\n",
            "28588/28588 [==============================] - 17s 607us/sample - loss: 0.0315 - accuracy: 0.9897 - val_loss: 0.0390 - val_accuracy: 0.9889\n",
            "Epoch 8/50\n",
            "28588/28588 [==============================] - 17s 598us/sample - loss: 0.0271 - accuracy: 0.9913 - val_loss: 0.0342 - val_accuracy: 0.9908\n",
            "Epoch 9/50\n",
            "28588/28588 [==============================] - 17s 584us/sample - loss: 0.0229 - accuracy: 0.9931 - val_loss: 0.0381 - val_accuracy: 0.9910\n",
            "Epoch 10/50\n",
            "28588/28588 [==============================] - 17s 588us/sample - loss: 0.0232 - accuracy: 0.9925 - val_loss: 0.0360 - val_accuracy: 0.9915\n",
            "Epoch 11/50\n",
            "28588/28588 [==============================] - 17s 592us/sample - loss: 0.0195 - accuracy: 0.9936 - val_loss: 0.0365 - val_accuracy: 0.9909\n",
            "Epoch 12/50\n",
            "28588/28588 [==============================] - 17s 601us/sample - loss: 0.0198 - accuracy: 0.9938 - val_loss: 0.0354 - val_accuracy: 0.9920\n",
            "Epoch 13/50\n",
            "28588/28588 [==============================] - 17s 599us/sample - loss: 0.0147 - accuracy: 0.9951 - val_loss: 0.0349 - val_accuracy: 0.9924\n",
            "Epoch 14/50\n",
            "28588/28588 [==============================] - 17s 605us/sample - loss: 0.0145 - accuracy: 0.9951 - val_loss: 0.0366 - val_accuracy: 0.9929\n",
            "Epoch 15/50\n",
            "28588/28588 [==============================] - 17s 607us/sample - loss: 0.0145 - accuracy: 0.9954 - val_loss: 0.0386 - val_accuracy: 0.9922\n",
            "Epoch 16/50\n",
            "28588/28588 [==============================] - 17s 607us/sample - loss: 0.0142 - accuracy: 0.9956 - val_loss: 0.0311 - val_accuracy: 0.9922\n",
            "Epoch 17/50\n",
            "28588/28588 [==============================] - 17s 604us/sample - loss: 0.0106 - accuracy: 0.9962 - val_loss: 0.0368 - val_accuracy: 0.9917\n",
            "Epoch 18/50\n",
            "28588/28588 [==============================] - 17s 602us/sample - loss: 0.0107 - accuracy: 0.9965 - val_loss: 0.0314 - val_accuracy: 0.9922\n",
            "Epoch 19/50\n",
            "28588/28588 [==============================] - 17s 601us/sample - loss: 0.0105 - accuracy: 0.9968 - val_loss: 0.0361 - val_accuracy: 0.9922\n",
            "Epoch 20/50\n",
            "28588/28588 [==============================] - 17s 609us/sample - loss: 0.0081 - accuracy: 0.9975 - val_loss: 0.0387 - val_accuracy: 0.9917\n",
            "Epoch 21/50\n",
            "28588/28588 [==============================] - 17s 597us/sample - loss: 0.0096 - accuracy: 0.9970 - val_loss: 0.0336 - val_accuracy: 0.9922\n",
            "Epoch 22/50\n",
            "28588/28588 [==============================] - 17s 598us/sample - loss: 0.0082 - accuracy: 0.9973 - val_loss: 0.0401 - val_accuracy: 0.9920\n",
            "Epoch 23/50\n",
            "28588/28588 [==============================] - 17s 598us/sample - loss: 0.0075 - accuracy: 0.9976 - val_loss: 0.0373 - val_accuracy: 0.9927\n",
            "Epoch 24/50\n",
            "28588/28588 [==============================] - 17s 608us/sample - loss: 0.0077 - accuracy: 0.9972 - val_loss: 0.0350 - val_accuracy: 0.9934\n",
            "Epoch 25/50\n",
            "28588/28588 [==============================] - 18s 616us/sample - loss: 0.0060 - accuracy: 0.9980 - val_loss: 0.0437 - val_accuracy: 0.9917\n",
            "Epoch 26/50\n",
            "28588/28588 [==============================] - 18s 619us/sample - loss: 0.0091 - accuracy: 0.9972 - val_loss: 0.0363 - val_accuracy: 0.9931\n",
            "Epoch 27/50\n",
            "28588/28588 [==============================] - 17s 600us/sample - loss: 0.0062 - accuracy: 0.9982 - val_loss: 0.0425 - val_accuracy: 0.9923\n",
            "Epoch 28/50\n",
            "28588/28588 [==============================] - 18s 615us/sample - loss: 0.0068 - accuracy: 0.9976 - val_loss: 0.0359 - val_accuracy: 0.9930\n",
            "Epoch 29/50\n",
            "28588/28588 [==============================] - 18s 614us/sample - loss: 0.0061 - accuracy: 0.9980 - val_loss: 0.0392 - val_accuracy: 0.9923\n",
            "Epoch 30/50\n",
            "28588/28588 [==============================] - 17s 611us/sample - loss: 0.0064 - accuracy: 0.9979 - val_loss: 0.0381 - val_accuracy: 0.9924\n",
            "Epoch 31/50\n",
            "28588/28588 [==============================] - 17s 602us/sample - loss: 0.0057 - accuracy: 0.9983 - val_loss: 0.0395 - val_accuracy: 0.9933\n",
            "Epoch 32/50\n",
            "28588/28588 [==============================] - 17s 602us/sample - loss: 0.0057 - accuracy: 0.9985 - val_loss: 0.0391 - val_accuracy: 0.9937\n",
            "Epoch 33/50\n",
            "28588/28588 [==============================] - 17s 605us/sample - loss: 0.0057 - accuracy: 0.9979 - val_loss: 0.0404 - val_accuracy: 0.9926\n",
            "Epoch 34/50\n",
            "28588/28588 [==============================] - 18s 616us/sample - loss: 0.0040 - accuracy: 0.9990 - val_loss: 0.0419 - val_accuracy: 0.9934\n",
            "Epoch 35/50\n",
            "28588/28588 [==============================] - 17s 595us/sample - loss: 0.0034 - accuracy: 0.9988 - val_loss: 0.0384 - val_accuracy: 0.9938\n",
            "Epoch 36/50\n",
            "28588/28588 [==============================] - 17s 608us/sample - loss: 0.0048 - accuracy: 0.9985 - val_loss: 0.0399 - val_accuracy: 0.9937\n",
            "Epoch 37/50\n",
            "28588/28588 [==============================] - 17s 602us/sample - loss: 0.0041 - accuracy: 0.9985 - val_loss: 0.0434 - val_accuracy: 0.9926\n",
            "Epoch 38/50\n",
            "28588/28588 [==============================] - 17s 596us/sample - loss: 0.0048 - accuracy: 0.9984 - val_loss: 0.0413 - val_accuracy: 0.9927\n",
            "Epoch 39/50\n",
            "28588/28588 [==============================] - 17s 597us/sample - loss: 0.0044 - accuracy: 0.9984 - val_loss: 0.0419 - val_accuracy: 0.9934\n",
            "Epoch 40/50\n",
            "28588/28588 [==============================] - 17s 599us/sample - loss: 0.0051 - accuracy: 0.9984 - val_loss: 0.0401 - val_accuracy: 0.9933\n",
            "Epoch 41/50\n",
            "28588/28588 [==============================] - 17s 587us/sample - loss: 0.0054 - accuracy: 0.9983 - val_loss: 0.0387 - val_accuracy: 0.9930\n",
            "Epoch 42/50\n",
            "28588/28588 [==============================] - 17s 583us/sample - loss: 0.0046 - accuracy: 0.9985 - val_loss: 0.0404 - val_accuracy: 0.9933\n",
            "Epoch 43/50\n",
            "28588/28588 [==============================] - 17s 589us/sample - loss: 0.0042 - accuracy: 0.9986 - val_loss: 0.0454 - val_accuracy: 0.9927\n",
            "Epoch 44/50\n",
            "28588/28588 [==============================] - 17s 611us/sample - loss: 0.0036 - accuracy: 0.9988 - val_loss: 0.0428 - val_accuracy: 0.9933\n",
            "Epoch 45/50\n",
            "28588/28588 [==============================] - 17s 606us/sample - loss: 0.0045 - accuracy: 0.9984 - val_loss: 0.0406 - val_accuracy: 0.9931\n",
            "Epoch 46/50\n",
            "28588/28588 [==============================] - 17s 594us/sample - loss: 0.0033 - accuracy: 0.9992 - val_loss: 0.0412 - val_accuracy: 0.9934\n",
            "Epoch 47/50\n",
            "28588/28588 [==============================] - 17s 592us/sample - loss: 0.0040 - accuracy: 0.9986 - val_loss: 0.0459 - val_accuracy: 0.9931\n",
            "Epoch 48/50\n",
            "28588/28588 [==============================] - 17s 601us/sample - loss: 0.0041 - accuracy: 0.9987 - val_loss: 0.0429 - val_accuracy: 0.9934\n",
            "Epoch 49/50\n",
            "28588/28588 [==============================] - 17s 594us/sample - loss: 0.0036 - accuracy: 0.9987 - val_loss: 0.0497 - val_accuracy: 0.9924\n",
            "Epoch 50/50\n",
            "28588/28588 [==============================] - 17s 606us/sample - loss: 0.0052 - accuracy: 0.9983 - val_loss: 0.0410 - val_accuracy: 0.9937\n",
            "INFO:tensorflow:Assets written to: model0_4/assets\n"
          ],
          "name": "stdout"
        }
      ]
    },
    {
      "cell_type": "code",
      "metadata": {
        "colab": {
          "base_uri": "https://localhost:8080/",
          "height": 265
        },
        "id": "LFn5W_PKGKxY",
        "outputId": "386841f7-d118-4a66-e8cd-7b3d8d659aa1"
      },
      "source": [
        "plot(history0_4)"
      ],
      "execution_count": null,
      "outputs": [
        {
          "output_type": "display_data",
          "data": {
            "image/png": "[encoded data removed]",
            "text/plain": [
              "<Figure size 432x288 with 1 Axes>"
            ]
          },
          "metadata": {
            "tags": []
          }
        }
      ]
    },
    {
      "cell_type": "markdown",
      "metadata": {
        "id": "JyCZZy4Q3QNV"
      },
      "source": [
        "# Task 2: Training on MNIST (5-9)"
      ]
    },
    {
      "cell_type": "code",
      "metadata": {
        "id": "zNKTTdxa3So-"
      },
      "source": [
        "'''Setting up X and Y for the second task'''\n",
        "\n",
        "X5_9 = img5_9\n",
        "Y5_9 = y5_9"
      ],
      "execution_count": null,
      "outputs": []
    },
    {
      "cell_type": "code",
      "metadata": {
        "colab": {
          "base_uri": "https://localhost:8080/"
        },
        "id": "5iQkcrd0Rz88",
        "outputId": "90463f54-3271-4f83-b3f6-206db060e66c"
      },
      "source": [
        "'''Encoding labels 5-9 into 0-4 since the model's last dense (softmax) wont accept values starting from 5'''\n",
        "\n",
        "from sklearn.preprocessing import LabelEncoder\n",
        "\n",
        "encoder = LabelEncoder()\n",
        "y5_9 = encoder.fit_transform(Y5_9)\n",
        "y5_9"
      ],
      "execution_count": null,
      "outputs": [
        {
          "output_type": "execute_result",
          "data": {
            "text/plain": [
              "array([0, 0, 0, ..., 4, 4, 4])"
            ]
          },
          "metadata": {
            "tags": []
          },
          "execution_count": 48
        }
      ]
    },
    {
      "cell_type": "code",
      "metadata": {
        "colab": {
          "base_uri": "https://localhost:8080/"
        },
        "id": "yy26ZLgg4p14",
        "outputId": "93ead484-42ca-49e3-9567-0d3ec544f11e"
      },
      "source": [
        "Y5_9"
      ],
      "execution_count": null,
      "outputs": [
        {
          "output_type": "execute_result",
          "data": {
            "text/plain": [
              "array([5, 5, 5, ..., 9, 9, 9], dtype=uint8)"
            ]
          },
          "metadata": {
            "tags": []
          },
          "execution_count": 49
        }
      ]
    },
    {
      "cell_type": "code",
      "metadata": {
        "id": "NLWwgfc-3b0r"
      },
      "source": [
        "'''Splitting the data into training and testing data'''\n",
        "\n",
        "x_train5_9, x_test5_9, y_train5_9, y_test5_9 = train_test_split(X5_9, y5_9, test_size=0.2)"
      ],
      "execution_count": null,
      "outputs": []
    },
    {
      "cell_type": "code",
      "metadata": {
        "colab": {
          "base_uri": "https://localhost:8080/"
        },
        "id": "c7RqFm6d3bxi",
        "outputId": "09faf54f-6651-4053-c0d8-50f547d664e6"
      },
      "source": [
        "x_train5_9.shape, y_train5_9.shape, x_test5_9.shape, y_test5_9.shape"
      ],
      "execution_count": null,
      "outputs": [
        {
          "output_type": "execute_result",
          "data": {
            "text/plain": [
              "((27412, 28, 28), (27412,), (6853, 28, 28), (6853,))"
            ]
          },
          "metadata": {
            "tags": []
          },
          "execution_count": 51
        }
      ]
    },
    {
      "cell_type": "code",
      "metadata": {
        "id": "8P9hI-Tr3bhF"
      },
      "source": [
        "'''reshaping inputs to feed to dense layer of network'''\n",
        "\n",
        "x_train5_9 = x_train5_9.reshape((-1, 784))\n",
        "x_test5_9 = x_test5_9.reshape((-1, 784))"
      ],
      "execution_count": null,
      "outputs": []
    },
    {
      "cell_type": "code",
      "metadata": {
        "colab": {
          "base_uri": "https://localhost:8080/"
        },
        "id": "1d2OIl0LfSpO",
        "outputId": "01b371f6-cefd-44c0-d536-3543ba2b2d53"
      },
      "source": [
        "model5_9 = models.Sequential([\n",
        "    layers.Dense(800, input_dim = 784, activation='relu', kernel_regularizer=L2reg(model0_4.weights[0]), bias_regularizer=L2reg(model0_4.weights[1])),\n",
        "    layers.Dropout(0.5),\n",
        "    layers.Dense(800, activation='relu', kernel_regularizer = L2reg(model0_4.weights[2]), bias_regularizer = L2reg(model0_4.weights[3])),\n",
        "    layers.Dropout(0.5),\n",
        "    layers.Dense(800, activation='relu',kernel_regularizer = L2reg(model0_4.weights[4]), bias_regularizer = L2reg(model0_4.weights[5])),\n",
        "    layers.Dropout(0.5),\n",
        "    layers.Dense(5, activation='softmax',kernel_regularizer = L2reg(model0_4.weights[6]), bias_regularizer= L2reg(model0_4.weights[7]))\n",
        "])\n",
        "\n",
        "model5_9.summary()"
      ],
      "execution_count": null,
      "outputs": [
        {
          "output_type": "stream",
          "text": [
            "Model: \"sequential_2\"\n",
            "_________________________________________________________________\n",
            "Layer (type)                 Output Shape              Param #   \n",
            "=================================================================\n",
            "dense_8 (Dense)              (None, 800)               628000    \n",
            "_________________________________________________________________\n",
            "dropout_6 (Dropout)          (None, 800)               0         \n",
            "_________________________________________________________________\n",
            "dense_9 (Dense)              (None, 800)               640800    \n",
            "_________________________________________________________________\n",
            "dropout_7 (Dropout)          (None, 800)               0         \n",
            "_________________________________________________________________\n",
            "dense_10 (Dense)             (None, 800)               640800    \n",
            "_________________________________________________________________\n",
            "dropout_8 (Dropout)          (None, 800)               0         \n",
            "_________________________________________________________________\n",
            "dense_11 (Dense)             (None, 5)                 4005      \n",
            "=================================================================\n",
            "Total params: 1,913,605\n",
            "Trainable params: 1,913,605\n",
            "Non-trainable params: 0\n",
            "_________________________________________________________________\n"
          ],
          "name": "stdout"
        }
      ]
    },
    {
      "cell_type": "code",
      "metadata": {
        "colab": {
          "base_uri": "https://localhost:8080/"
        },
        "id": "7L5YRGdS34Lj",
        "outputId": "f0a68d52-f58a-48f1-9cb4-513a9ab56523"
      },
      "source": [
        "'''compiling and training the model for task 2'''\n",
        "'''Load weights from the previous task so that same model is used'''\n",
        "'''Save weights for initializing the next model'''\n",
        "\n",
        "model5_9.compile(optimizer=opt, loss = 'sparse_categorical_crossentropy', metrics=['accuracy'])\n",
        "\n",
        "\n",
        "model5_9.load_weights('/content/drive/MyDrive/552 PROJECT/IMM/task1mnist0_4.h5')\n",
        "\n",
        "history5_9 = model5_9.fit(x_train5_9, y_train5_9, epochs=50, validation_data = (x_test5_9, y_test5_9))\n",
        "\n",
        "model5_9.save_weights('/content/drive/MyDrive/552 PROJECT/IMM/task2mnist5_9.h5')"
      ],
      "execution_count": null,
      "outputs": [
        {
          "output_type": "stream",
          "text": [
            "Train on 27412 samples, validate on 6853 samples\n",
            "Epoch 1/50\n",
            "27200/27412 [============================>.] - ETA: 0s - loss: 1.1727 - accuracy: 0.8465"
          ],
          "name": "stdout"
        },
        {
          "output_type": "stream",
          "text": [
            "/usr/local/lib/python3.7/dist-packages/tensorflow/python/keras/engine/training.py:2325: UserWarning: `Model.state_updates` will be removed in a future version. This property should not be used in TensorFlow 2.0, as `updates` are applied automatically.\n",
            "  warnings.warn('`Model.state_updates` will be removed in a future version. '\n"
          ],
          "name": "stderr"
        },
        {
          "output_type": "stream",
          "text": [
            "27412/27412 [==============================] - 4s 141us/sample - loss: 1.1731 - accuracy: 0.8465 - val_loss: 0.9725 - val_accuracy: 0.9132\n",
            "Epoch 2/50\n",
            "27412/27412 [==============================] - 4s 136us/sample - loss: 1.1265 - accuracy: 0.8592 - val_loss: 1.0073 - val_accuracy: 0.8846\n",
            "Epoch 3/50\n",
            "27412/27412 [==============================] - 4s 130us/sample - loss: 1.1315 - accuracy: 0.8556 - val_loss: 0.9478 - val_accuracy: 0.9076\n",
            "Epoch 4/50\n",
            "27412/27412 [==============================] - 4s 130us/sample - loss: 1.1255 - accuracy: 0.8582 - val_loss: 1.0454 - val_accuracy: 0.8935\n",
            "Epoch 5/50\n",
            "27412/27412 [==============================] - 4s 129us/sample - loss: 1.1211 - accuracy: 0.8573 - val_loss: 0.9499 - val_accuracy: 0.8954\n",
            "Epoch 6/50\n",
            "27412/27412 [==============================] - 4s 131us/sample - loss: 1.1252 - accuracy: 0.8581 - val_loss: 0.9614 - val_accuracy: 0.9113\n",
            "Epoch 7/50\n",
            "27412/27412 [==============================] - 4s 134us/sample - loss: 1.1241 - accuracy: 0.8591 - val_loss: 0.9632 - val_accuracy: 0.9171\n",
            "Epoch 8/50\n",
            "27412/27412 [==============================] - 4s 133us/sample - loss: 1.1210 - accuracy: 0.8602 - val_loss: 0.9411 - val_accuracy: 0.9088\n",
            "Epoch 9/50\n",
            "27412/27412 [==============================] - 4s 131us/sample - loss: 1.1218 - accuracy: 0.8600 - val_loss: 0.9410 - val_accuracy: 0.9059\n",
            "Epoch 10/50\n",
            "27412/27412 [==============================] - 4s 133us/sample - loss: 1.1257 - accuracy: 0.8600 - val_loss: 0.9764 - val_accuracy: 0.9002\n",
            "Epoch 11/50\n",
            "27412/27412 [==============================] - 4s 130us/sample - loss: 1.1207 - accuracy: 0.8580 - val_loss: 0.9844 - val_accuracy: 0.9038\n",
            "Epoch 12/50\n",
            "27412/27412 [==============================] - 4s 129us/sample - loss: 1.1223 - accuracy: 0.8599 - val_loss: 0.9311 - val_accuracy: 0.9089\n",
            "Epoch 13/50\n",
            "27412/27412 [==============================] - 4s 132us/sample - loss: 1.1218 - accuracy: 0.8597 - val_loss: 0.9971 - val_accuracy: 0.8980\n",
            "Epoch 14/50\n",
            "27412/27412 [==============================] - 4s 133us/sample - loss: 1.1252 - accuracy: 0.8601 - val_loss: 0.9321 - val_accuracy: 0.9087\n",
            "Epoch 15/50\n",
            "27412/27412 [==============================] - 4s 132us/sample - loss: 1.1233 - accuracy: 0.8609 - val_loss: 0.9271 - val_accuracy: 0.9089\n",
            "Epoch 16/50\n",
            "27412/27412 [==============================] - 4s 133us/sample - loss: 1.1228 - accuracy: 0.8589 - val_loss: 0.9405 - val_accuracy: 0.9037\n",
            "Epoch 17/50\n",
            "27412/27412 [==============================] - 4s 133us/sample - loss: 1.1209 - accuracy: 0.8610 - val_loss: 0.9687 - val_accuracy: 0.9054\n",
            "Epoch 18/50\n",
            "27412/27412 [==============================] - 4s 131us/sample - loss: 1.1256 - accuracy: 0.8587 - val_loss: 0.9270 - val_accuracy: 0.9117\n",
            "Epoch 19/50\n",
            "27412/27412 [==============================] - 4s 132us/sample - loss: 1.1293 - accuracy: 0.8570 - val_loss: 0.9648 - val_accuracy: 0.9041\n",
            "Epoch 20/50\n",
            "27412/27412 [==============================] - 4s 131us/sample - loss: 1.1238 - accuracy: 0.8595 - val_loss: 0.9424 - val_accuracy: 0.9009\n",
            "Epoch 21/50\n",
            "27412/27412 [==============================] - 4s 129us/sample - loss: 1.1265 - accuracy: 0.8578 - val_loss: 1.0219 - val_accuracy: 0.9094\n",
            "Epoch 22/50\n",
            "27412/27412 [==============================] - 4s 128us/sample - loss: 1.1277 - accuracy: 0.8581 - val_loss: 0.9632 - val_accuracy: 0.9044\n",
            "Epoch 23/50\n",
            "27412/27412 [==============================] - 4s 135us/sample - loss: 1.1287 - accuracy: 0.8589 - val_loss: 0.9476 - val_accuracy: 0.9138\n",
            "Epoch 24/50\n",
            "27412/27412 [==============================] - 4s 134us/sample - loss: 1.1195 - accuracy: 0.8601 - val_loss: 0.9274 - val_accuracy: 0.9197\n",
            "Epoch 25/50\n",
            "27412/27412 [==============================] - 4s 133us/sample - loss: 1.1289 - accuracy: 0.8590 - val_loss: 0.9452 - val_accuracy: 0.9205\n",
            "Epoch 26/50\n",
            "27412/27412 [==============================] - 4s 133us/sample - loss: 1.1272 - accuracy: 0.8593 - val_loss: 0.9530 - val_accuracy: 0.9030\n",
            "Epoch 27/50\n",
            "27412/27412 [==============================] - 4s 133us/sample - loss: 1.1252 - accuracy: 0.8597 - val_loss: 0.9786 - val_accuracy: 0.9027\n",
            "Epoch 28/50\n",
            "27412/27412 [==============================] - 4s 132us/sample - loss: 1.1247 - accuracy: 0.8606 - val_loss: 0.9769 - val_accuracy: 0.9119\n",
            "Epoch 29/50\n",
            "27412/27412 [==============================] - 4s 133us/sample - loss: 1.1271 - accuracy: 0.8600 - val_loss: 0.9691 - val_accuracy: 0.9076\n",
            "Epoch 30/50\n",
            "27412/27412 [==============================] - 4s 132us/sample - loss: 1.1249 - accuracy: 0.8588 - val_loss: 0.9360 - val_accuracy: 0.9094\n",
            "Epoch 31/50\n",
            "27412/27412 [==============================] - 4s 132us/sample - loss: 1.1307 - accuracy: 0.8578 - val_loss: 0.9666 - val_accuracy: 0.9049\n",
            "Epoch 32/50\n",
            "27412/27412 [==============================] - 4s 132us/sample - loss: 1.1251 - accuracy: 0.8600 - val_loss: 0.9637 - val_accuracy: 0.9127\n",
            "Epoch 33/50\n",
            "27412/27412 [==============================] - 4s 131us/sample - loss: 1.1197 - accuracy: 0.8594 - val_loss: 0.9620 - val_accuracy: 0.9088\n",
            "Epoch 34/50\n",
            "27412/27412 [==============================] - 4s 132us/sample - loss: 1.1214 - accuracy: 0.8609 - val_loss: 0.9430 - val_accuracy: 0.9164\n",
            "Epoch 35/50\n",
            "27412/27412 [==============================] - 4s 135us/sample - loss: 1.1248 - accuracy: 0.8596 - val_loss: 0.9746 - val_accuracy: 0.9015\n",
            "Epoch 36/50\n",
            "27412/27412 [==============================] - 4s 139us/sample - loss: 1.1246 - accuracy: 0.8595 - val_loss: 0.9299 - val_accuracy: 0.9189\n",
            "Epoch 37/50\n",
            "27412/27412 [==============================] - 4s 136us/sample - loss: 1.1164 - accuracy: 0.8606 - val_loss: 1.0088 - val_accuracy: 0.8964\n",
            "Epoch 38/50\n",
            "27412/27412 [==============================] - 4s 134us/sample - loss: 1.1256 - accuracy: 0.8591 - val_loss: 0.9498 - val_accuracy: 0.9081\n",
            "Epoch 39/50\n",
            "27412/27412 [==============================] - 4s 133us/sample - loss: 1.1208 - accuracy: 0.8591 - val_loss: 0.9437 - val_accuracy: 0.8941\n",
            "Epoch 40/50\n",
            "27412/27412 [==============================] - 4s 133us/sample - loss: 1.1187 - accuracy: 0.8603 - val_loss: 0.9258 - val_accuracy: 0.9192\n",
            "Epoch 41/50\n",
            "27412/27412 [==============================] - 4s 131us/sample - loss: 1.1174 - accuracy: 0.8609 - val_loss: 0.9566 - val_accuracy: 0.9008\n",
            "Epoch 42/50\n",
            "27412/27412 [==============================] - 4s 131us/sample - loss: 1.1235 - accuracy: 0.8597 - val_loss: 0.9375 - val_accuracy: 0.8990\n",
            "Epoch 43/50\n",
            "27412/27412 [==============================] - 4s 132us/sample - loss: 1.1253 - accuracy: 0.8589 - val_loss: 0.9393 - val_accuracy: 0.9177\n",
            "Epoch 44/50\n",
            "27412/27412 [==============================] - 4s 131us/sample - loss: 1.1144 - accuracy: 0.8626 - val_loss: 0.9493 - val_accuracy: 0.9159\n",
            "Epoch 45/50\n",
            "27412/27412 [==============================] - 4s 132us/sample - loss: 1.1273 - accuracy: 0.8583 - val_loss: 1.1148 - val_accuracy: 0.8695\n",
            "Epoch 46/50\n",
            "27412/27412 [==============================] - 4s 130us/sample - loss: 1.1264 - accuracy: 0.8598 - val_loss: 0.9863 - val_accuracy: 0.8976\n",
            "Epoch 47/50\n",
            "27412/27412 [==============================] - 4s 133us/sample - loss: 1.1218 - accuracy: 0.8607 - val_loss: 0.9509 - val_accuracy: 0.9230\n",
            "Epoch 48/50\n",
            "27412/27412 [==============================] - 4s 132us/sample - loss: 1.1226 - accuracy: 0.8608 - val_loss: 0.9262 - val_accuracy: 0.9126\n",
            "Epoch 49/50\n",
            "27412/27412 [==============================] - 4s 133us/sample - loss: 1.1233 - accuracy: 0.8589 - val_loss: 0.9853 - val_accuracy: 0.8999\n",
            "Epoch 50/50\n",
            "27412/27412 [==============================] - 4s 131us/sample - loss: 1.1308 - accuracy: 0.8567 - val_loss: 0.9370 - val_accuracy: 0.9173\n"
          ],
          "name": "stdout"
        }
      ]
    },
    {
      "cell_type": "code",
      "metadata": {
        "colab": {
          "base_uri": "https://localhost:8080/",
          "height": 265
        },
        "id": "PRPeF-ni34I5",
        "outputId": "513ccd0f-ec83-4bab-d1fc-d79aba3ad0a5"
      },
      "source": [
        "'''Plotting the accuracy over training period'''\n",
        "\n",
        "plot(history5_9)"
      ],
      "execution_count": 55,
      "outputs": [
        {
          "output_type": "display_data",
          "data": {
            "image/png": "[encoded data removed]",
            "text/plain": [
              "<Figure size 432x288 with 1 Axes>"
            ]
          },
          "metadata": {
            "tags": [],
            "needs_background": "light"
          }
        }
      ]
    },
    {
      "cell_type": "code",
      "metadata": {
        "colab": {
          "base_uri": "https://localhost:8080/",
          "height": 385
        },
        "id": "VAEgZ2kT33-z",
        "outputId": "431830d0-d513-44f5-ecab-15bbe500db5c"
      },
      "source": [
        "'''checking predictions'''\n",
        "\n",
        "print(encoder.inverse_transform(model5_9.predict_classes(x_test5_9[0].reshape(-1,784))))\n",
        "plt.imshow(x_test5_9[0].reshape(28,28))"
      ],
      "execution_count": 56,
      "outputs": [
        {
          "output_type": "stream",
          "text": [
            "[5]\n"
          ],
          "name": "stdout"
        },
        {
          "output_type": "stream",
          "text": [
            "/usr/local/lib/python3.7/dist-packages/tensorflow/python/keras/engine/sequential.py:450: UserWarning: `model.predict_classes()` is deprecated and will be removed after 2021-01-01. Please use instead:* `np.argmax(model.predict(x), axis=-1)`,   if your model does multi-class classification   (e.g. if it uses a `softmax` last-layer activation).* `(model.predict(x) > 0.5).astype(\"int32\")`,   if your model does binary classification   (e.g. if it uses a `sigmoid` last-layer activation).\n",
            "  warnings.warn('`model.predict_classes()` is deprecated and '\n",
            "/usr/local/lib/python3.7/dist-packages/tensorflow/python/keras/engine/training.py:2325: UserWarning: `Model.state_updates` will be removed in a future version. This property should not be used in TensorFlow 2.0, as `updates` are applied automatically.\n",
            "  warnings.warn('`Model.state_updates` will be removed in a future version. '\n"
          ],
          "name": "stderr"
        },
        {
          "output_type": "execute_result",
          "data": {
            "text/plain": [
              "<matplotlib.image.AxesImage at 0x7fde8acc6f10>"
            ]
          },
          "metadata": {
            "tags": []
          },
          "execution_count": 56
        },
        {
          "output_type": "display_data",
          "data": {
            "image/png": "[encoded data removed]",
            "text/plain": [
              "<Figure size 432x288 with 1 Axes>"
            ]
          },
          "metadata": {
            "tags": [],
            "needs_background": "light"
          }
        }
      ]
    },
    {
      "cell_type": "markdown",
      "metadata": {
        "id": "9yDn-1-ccr7j"
      },
      "source": [
        "# Task 3: training on shuffled (pixel shuffling) images (mnist 0-4)"
      ]
    },
    {
      "cell_type": "code",
      "metadata": {
        "id": "Jw3Qfz7YVgKD"
      },
      "source": [
        "'''Setting up X and Y for the third task'''\n",
        "\n",
        "pX0_4 = img0_4\n",
        "pY0_4 = y0_4"
      ],
      "execution_count": 57,
      "outputs": []
    },
    {
      "cell_type": "code",
      "metadata": {
        "id": "DrvIYeSpe5tS"
      },
      "source": [
        "'''Shuffling the pixels'''\n",
        "\n",
        "i = np.arange(pX0_4.shape[1])\n",
        "np.random.shuffle(i)\n",
        "\n",
        "pX0_4 = pX0_4[:, i]"
      ],
      "execution_count": 58,
      "outputs": []
    },
    {
      "cell_type": "code",
      "metadata": {
        "colab": {
          "base_uri": "https://localhost:8080/",
          "height": 144
        },
        "id": "g1OWjmHqggko",
        "outputId": "3ff835e6-ce0f-4964-d1de-9aa476ed9b02"
      },
      "source": [
        "'''visualizing the shuffled images'''\n",
        "\n",
        "plt.subplot(2,2,3)\n",
        "plt.imshow(img0_4[9883].reshape(28,28), cmap='gray')\n",
        "plt.xlabel(y0_4[9883])\n",
        "plt.xticks([])\n",
        "plt.yticks([])\n",
        "\n",
        "plt.subplot(2,2,4)\n",
        "plt.imshow(pX0_4[9883].reshape(28,28), cmap='gray')\n",
        "plt.xlabel(pY0_4[9883])\n",
        "plt.xticks([])\n",
        "plt.yticks([])\n",
        "\n",
        "\n",
        "plt.show()"
      ],
      "execution_count": 59,
      "outputs": [
        {
          "output_type": "display_data",
          "data": {
            "image/png": "[encoded data removed]",
            "text/plain": [
              "<Figure size 432x288 with 2 Axes>"
            ]
          },
          "metadata": {
            "tags": []
          }
        }
      ]
    },
    {
      "cell_type": "code",
      "metadata": {
        "id": "GRPEwg-iWYyC"
      },
      "source": [
        "'''splitting data into training and testing data'''\n",
        "\n",
        "pX_train0_4, pX_test0_4, pY_train0_4, pY_test0_4 = train_test_split(pX0_4, pY0_4, test_size=0.2)"
      ],
      "execution_count": 60,
      "outputs": []
    },
    {
      "cell_type": "code",
      "metadata": {
        "id": "1mzawtgBWzLq"
      },
      "source": [
        "'''reshaping inputs to feed to dense layer of network'''\n",
        "\n",
        "pX_train0_4 = pX_train0_4.reshape((-1, 784))\n",
        "pX_test0_4 = pX_test0_4.reshape((-1, 784))"
      ],
      "execution_count": 61,
      "outputs": []
    },
    {
      "cell_type": "code",
      "metadata": {
        "colab": {
          "base_uri": "https://localhost:8080/"
        },
        "id": "7kkQttXPkm9l",
        "outputId": "5df3b752-d8c5-4980-d7f7-ec65d5eccb29"
      },
      "source": [
        "'''creating a new model'''\n",
        "\n",
        "modelp0_4 = models.Sequential([\n",
        "    layers.Dense(800, input_dim = 784, activation='relu', kernel_regularizer=L2reg(model5_9.weights[0]), bias_regularizer=L2reg(model5_9.weights[1])),\n",
        "    layers.Dropout(0.5),\n",
        "    layers.Dense(800, activation='relu', kernel_regularizer = L2reg(model5_9.weights[2]), bias_regularizer = L2reg(model5_9.weights[3])),\n",
        "    layers.Dropout(0.5),\n",
        "    layers.Dense(800, activation='relu',kernel_regularizer = L2reg(model5_9.weights[4]), bias_regularizer = L2reg(model5_9.weights[5])),\n",
        "    layers.Dropout(0.5),\n",
        "    layers.Dense(5, activation='softmax',kernel_regularizer = L2reg(model5_9.weights[6]), bias_regularizer= L2reg(model5_9.weights[7]))\n",
        "])\n",
        "\n",
        "modelp0_4.summary()"
      ],
      "execution_count": 62,
      "outputs": [
        {
          "output_type": "stream",
          "text": [
            "Model: \"sequential_3\"\n",
            "_________________________________________________________________\n",
            "Layer (type)                 Output Shape              Param #   \n",
            "=================================================================\n",
            "dense_12 (Dense)             (None, 800)               628000    \n",
            "_________________________________________________________________\n",
            "dropout_9 (Dropout)          (None, 800)               0         \n",
            "_________________________________________________________________\n",
            "dense_13 (Dense)             (None, 800)               640800    \n",
            "_________________________________________________________________\n",
            "dropout_10 (Dropout)         (None, 800)               0         \n",
            "_________________________________________________________________\n",
            "dense_14 (Dense)             (None, 800)               640800    \n",
            "_________________________________________________________________\n",
            "dropout_11 (Dropout)         (None, 800)               0         \n",
            "_________________________________________________________________\n",
            "dense_15 (Dense)             (None, 5)                 4005      \n",
            "=================================================================\n",
            "Total params: 1,913,605\n",
            "Trainable params: 1,913,605\n",
            "Non-trainable params: 0\n",
            "_________________________________________________________________\n"
          ],
          "name": "stdout"
        }
      ]
    },
    {
      "cell_type": "code",
      "metadata": {
        "colab": {
          "base_uri": "https://localhost:8080/"
        },
        "id": "2mUpiNIwj_rQ",
        "outputId": "580fa844-444a-4901-d169-32a7cfd66af8"
      },
      "source": [
        "'''compiling and training the model for task 3'''\n",
        "'''Load weights from the previous task so that same model is used'''\n",
        "'''Save weights for initializing the next model'''\n",
        "\n",
        "modelp0_4.compile(loss='sparse_categorical_crossentropy', optimizer = opt, metrics=['accuracy'])\n",
        "\n",
        "modelp0_4.load_weights('/content/drive/MyDrive/552 PROJECT/IMM/task2mnist5_9.h5')\n",
        "\n",
        "historyp0_4 = modelp0_4.fit(pX_train0_4, pY_train0_4, epochs=50, validation_data = (pX_test0_4, pY_test0_4))\n",
        "\n",
        "modelp0_4.save_weights('/content/drive/MyDrive/552 PROJECT/IMM/task3pmnist0_4.h5')"
      ],
      "execution_count": 63,
      "outputs": [
        {
          "output_type": "stream",
          "text": [
            "Train on 28588 samples, validate on 7147 samples\n",
            "Epoch 1/50\n",
            "28588/28588 [==============================] - ETA: 0s - loss: 0.4685 - accuracy: 0.9307"
          ],
          "name": "stdout"
        },
        {
          "output_type": "stream",
          "text": [
            "/usr/local/lib/python3.7/dist-packages/tensorflow/python/keras/engine/training.py:2325: UserWarning: `Model.state_updates` will be removed in a future version. This property should not be used in TensorFlow 2.0, as `updates` are applied automatically.\n",
            "  warnings.warn('`Model.state_updates` will be removed in a future version. '\n"
          ],
          "name": "stderr"
        },
        {
          "output_type": "stream",
          "text": [
            "28588/28588 [==============================] - 4s 140us/sample - loss: 0.4685 - accuracy: 0.9307 - val_loss: 0.4149 - val_accuracy: 0.9548\n",
            "Epoch 2/50\n",
            "28588/28588 [==============================] - 4s 129us/sample - loss: 0.4633 - accuracy: 0.9353 - val_loss: 0.3784 - val_accuracy: 0.9569\n",
            "Epoch 3/50\n",
            "28588/28588 [==============================] - 4s 130us/sample - loss: 0.4612 - accuracy: 0.9368 - val_loss: 0.3686 - val_accuracy: 0.9701\n",
            "Epoch 4/50\n",
            "28588/28588 [==============================] - 4s 128us/sample - loss: 0.4608 - accuracy: 0.9361 - val_loss: 0.3568 - val_accuracy: 0.9656\n",
            "Epoch 5/50\n",
            "28588/28588 [==============================] - 4s 129us/sample - loss: 0.4552 - accuracy: 0.9370 - val_loss: 0.3465 - val_accuracy: 0.9668\n",
            "Epoch 6/50\n",
            "28588/28588 [==============================] - 4s 127us/sample - loss: 0.4533 - accuracy: 0.9371 - val_loss: 0.4232 - val_accuracy: 0.9507\n",
            "Epoch 7/50\n",
            "28588/28588 [==============================] - 4s 127us/sample - loss: 0.4576 - accuracy: 0.9370 - val_loss: 0.4252 - val_accuracy: 0.9470\n",
            "Epoch 8/50\n",
            "28588/28588 [==============================] - 4s 129us/sample - loss: 0.4616 - accuracy: 0.9351 - val_loss: 0.5950 - val_accuracy: 0.8949\n",
            "Epoch 9/50\n",
            "28588/28588 [==============================] - 4s 132us/sample - loss: 0.4629 - accuracy: 0.9353 - val_loss: 0.3865 - val_accuracy: 0.9667\n",
            "Epoch 10/50\n",
            "28588/28588 [==============================] - 4s 130us/sample - loss: 0.4583 - accuracy: 0.9364 - val_loss: 0.3934 - val_accuracy: 0.9643\n",
            "Epoch 11/50\n",
            "28588/28588 [==============================] - 4s 129us/sample - loss: 0.4616 - accuracy: 0.9360 - val_loss: 0.3912 - val_accuracy: 0.9552\n",
            "Epoch 12/50\n",
            "28588/28588 [==============================] - 4s 130us/sample - loss: 0.4621 - accuracy: 0.9336 - val_loss: 0.4174 - val_accuracy: 0.9555\n",
            "Epoch 13/50\n",
            "28588/28588 [==============================] - 4s 129us/sample - loss: 0.4595 - accuracy: 0.9348 - val_loss: 0.4002 - val_accuracy: 0.9631\n",
            "Epoch 14/50\n",
            "28588/28588 [==============================] - 4s 134us/sample - loss: 0.4605 - accuracy: 0.9350 - val_loss: 0.3847 - val_accuracy: 0.9674\n",
            "Epoch 15/50\n",
            "28588/28588 [==============================] - 4s 129us/sample - loss: 0.4584 - accuracy: 0.9359 - val_loss: 0.3722 - val_accuracy: 0.9657\n",
            "Epoch 16/50\n",
            "28588/28588 [==============================] - 4s 129us/sample - loss: 0.4568 - accuracy: 0.9360 - val_loss: 0.4515 - val_accuracy: 0.9363\n",
            "Epoch 17/50\n",
            "28588/28588 [==============================] - 4s 129us/sample - loss: 0.4609 - accuracy: 0.9336 - val_loss: 0.3792 - val_accuracy: 0.9642\n",
            "Epoch 18/50\n",
            "28588/28588 [==============================] - 4s 132us/sample - loss: 0.4626 - accuracy: 0.9373 - val_loss: 0.4063 - val_accuracy: 0.9653\n",
            "Epoch 19/50\n",
            "28588/28588 [==============================] - 4s 131us/sample - loss: 0.4553 - accuracy: 0.9360 - val_loss: 0.3472 - val_accuracy: 0.9715\n",
            "Epoch 20/50\n",
            "28588/28588 [==============================] - 4s 129us/sample - loss: 0.4538 - accuracy: 0.9358 - val_loss: 0.3704 - val_accuracy: 0.9657\n",
            "Epoch 21/50\n",
            "28588/28588 [==============================] - 4s 127us/sample - loss: 0.4627 - accuracy: 0.9354 - val_loss: 0.3755 - val_accuracy: 0.9650\n",
            "Epoch 22/50\n",
            "28588/28588 [==============================] - 4s 129us/sample - loss: 0.4492 - accuracy: 0.9390 - val_loss: 0.4186 - val_accuracy: 0.9577\n",
            "Epoch 23/50\n",
            "28588/28588 [==============================] - 4s 130us/sample - loss: 0.4654 - accuracy: 0.9339 - val_loss: 0.3965 - val_accuracy: 0.9598\n",
            "Epoch 24/50\n",
            "28588/28588 [==============================] - 4s 129us/sample - loss: 0.4609 - accuracy: 0.9349 - val_loss: 0.3617 - val_accuracy: 0.9670\n",
            "Epoch 25/50\n",
            "28588/28588 [==============================] - 4s 129us/sample - loss: 0.4534 - accuracy: 0.9377 - val_loss: 0.4287 - val_accuracy: 0.9484\n",
            "Epoch 26/50\n",
            "28588/28588 [==============================] - 4s 130us/sample - loss: 0.4554 - accuracy: 0.9361 - val_loss: 0.4349 - val_accuracy: 0.9605\n",
            "Epoch 27/50\n",
            "28588/28588 [==============================] - 4s 130us/sample - loss: 0.4568 - accuracy: 0.9371 - val_loss: 0.4005 - val_accuracy: 0.9604\n",
            "Epoch 28/50\n",
            "28588/28588 [==============================] - 4s 129us/sample - loss: 0.4577 - accuracy: 0.9356 - val_loss: 0.3640 - val_accuracy: 0.9659\n",
            "Epoch 29/50\n",
            "28588/28588 [==============================] - 4s 130us/sample - loss: 0.4606 - accuracy: 0.9360 - val_loss: 0.4915 - val_accuracy: 0.9386\n",
            "Epoch 30/50\n",
            "28588/28588 [==============================] - 4s 131us/sample - loss: 0.4539 - accuracy: 0.9370 - val_loss: 0.3689 - val_accuracy: 0.9632\n",
            "Epoch 31/50\n",
            "28588/28588 [==============================] - 4s 129us/sample - loss: 0.4605 - accuracy: 0.9355 - val_loss: 0.3511 - val_accuracy: 0.9642\n",
            "Epoch 32/50\n",
            "28588/28588 [==============================] - 4s 129us/sample - loss: 0.4587 - accuracy: 0.9360 - val_loss: 0.4229 - val_accuracy: 0.9548\n",
            "Epoch 33/50\n",
            "28588/28588 [==============================] - 4s 129us/sample - loss: 0.4558 - accuracy: 0.9371 - val_loss: 0.3683 - val_accuracy: 0.9666\n",
            "Epoch 34/50\n",
            "28588/28588 [==============================] - 4s 128us/sample - loss: 0.4596 - accuracy: 0.9356 - val_loss: 0.3734 - val_accuracy: 0.9670\n",
            "Epoch 35/50\n",
            "28588/28588 [==============================] - 4s 133us/sample - loss: 0.4533 - accuracy: 0.9377 - val_loss: 0.4226 - val_accuracy: 0.9619\n",
            "Epoch 36/50\n",
            "28588/28588 [==============================] - 4s 129us/sample - loss: 0.4582 - accuracy: 0.9365 - val_loss: 0.3953 - val_accuracy: 0.9636\n",
            "Epoch 37/50\n",
            "28588/28588 [==============================] - 4s 132us/sample - loss: 0.4590 - accuracy: 0.9352 - val_loss: 0.3819 - val_accuracy: 0.9604\n",
            "Epoch 38/50\n",
            "28588/28588 [==============================] - 4s 131us/sample - loss: 0.4603 - accuracy: 0.9336 - val_loss: 0.3771 - val_accuracy: 0.9622\n",
            "Epoch 39/50\n",
            "28588/28588 [==============================] - 4s 129us/sample - loss: 0.4544 - accuracy: 0.9366 - val_loss: 0.3981 - val_accuracy: 0.9631\n",
            "Epoch 40/50\n",
            "28588/28588 [==============================] - 4s 128us/sample - loss: 0.4647 - accuracy: 0.9345 - val_loss: 0.3636 - val_accuracy: 0.9657\n",
            "Epoch 41/50\n",
            "28588/28588 [==============================] - 4s 128us/sample - loss: 0.4564 - accuracy: 0.9358 - val_loss: 0.3776 - val_accuracy: 0.9673\n",
            "Epoch 42/50\n",
            "28588/28588 [==============================] - 4s 129us/sample - loss: 0.4579 - accuracy: 0.9360 - val_loss: 0.3712 - val_accuracy: 0.9638\n",
            "Epoch 43/50\n",
            "28588/28588 [==============================] - 4s 130us/sample - loss: 0.4561 - accuracy: 0.9363 - val_loss: 0.4124 - val_accuracy: 0.9579\n",
            "Epoch 44/50\n",
            "28588/28588 [==============================] - 4s 130us/sample - loss: 0.4591 - accuracy: 0.9367 - val_loss: 0.3996 - val_accuracy: 0.9625\n",
            "Epoch 45/50\n",
            "28588/28588 [==============================] - 4s 131us/sample - loss: 0.4626 - accuracy: 0.9363 - val_loss: 0.4027 - val_accuracy: 0.9582\n",
            "Epoch 46/50\n",
            "28588/28588 [==============================] - 4s 130us/sample - loss: 0.4561 - accuracy: 0.9371 - val_loss: 0.3850 - val_accuracy: 0.9580\n",
            "Epoch 47/50\n",
            "28588/28588 [==============================] - 4s 130us/sample - loss: 0.4521 - accuracy: 0.9368 - val_loss: 0.3736 - val_accuracy: 0.9696\n",
            "Epoch 48/50\n",
            "28588/28588 [==============================] - 4s 132us/sample - loss: 0.4584 - accuracy: 0.9359 - val_loss: 0.3734 - val_accuracy: 0.9678\n",
            "Epoch 49/50\n",
            "28588/28588 [==============================] - 4s 127us/sample - loss: 0.4560 - accuracy: 0.9362 - val_loss: 0.3621 - val_accuracy: 0.9645\n",
            "Epoch 50/50\n",
            "28588/28588 [==============================] - 4s 127us/sample - loss: 0.4604 - accuracy: 0.9358 - val_loss: 0.5180 - val_accuracy: 0.9214\n"
          ],
          "name": "stdout"
        }
      ]
    },
    {
      "cell_type": "code",
      "metadata": {
        "colab": {
          "base_uri": "https://localhost:8080/",
          "height": 265
        },
        "id": "0i0W5DajkyKt",
        "outputId": "8b3c6048-f4e5-411d-a4de-5a465b29a042"
      },
      "source": [
        "'''Plotting the accuracy over training period'''\n",
        "\n",
        "plot(historyp0_4)"
      ],
      "execution_count": 64,
      "outputs": [
        {
          "output_type": "display_data",
          "data": {
            "image/png": "[encoded data removed]",
            "text/plain": [
              "<Figure size 432x288 with 1 Axes>"
            ]
          },
          "metadata": {
            "tags": [],
            "needs_background": "light"
          }
        }
      ]
    },
    {
      "cell_type": "markdown",
      "metadata": {
        "id": "UblwRliKX5Gz"
      },
      "source": [
        "# Task 4: training on shuffled (pixel shuffling) images (mnist 5-9)"
      ]
    },
    {
      "cell_type": "code",
      "metadata": {
        "id": "2T7sO1hSYCa7"
      },
      "source": [
        "'''Setting up X and Y for the second task'''\n",
        "\n",
        "pX5_9 = img5_9\n",
        "pY5_9 = y5_9"
      ],
      "execution_count": 65,
      "outputs": []
    },
    {
      "cell_type": "code",
      "metadata": {
        "colab": {
          "base_uri": "https://localhost:8080/"
        },
        "id": "cGVogkKhYCYE",
        "outputId": "3b155a1e-48e4-457b-de4c-168ac06200b2"
      },
      "source": [
        "'''Encoding labels 5-9 into 0-4 since the model's last dense (softmax) wont accept values starting from 5'''\n",
        "\n",
        "from sklearn.preprocessing import LabelEncoder\n",
        "\n",
        "encoder2 = LabelEncoder()\n",
        "pY5_9 = encoder2.fit_transform(pY5_9)\n",
        "pY5_9"
      ],
      "execution_count": 66,
      "outputs": [
        {
          "output_type": "execute_result",
          "data": {
            "text/plain": [
              "array([0, 0, 0, ..., 4, 4, 4])"
            ]
          },
          "metadata": {
            "tags": []
          },
          "execution_count": 66
        }
      ]
    },
    {
      "cell_type": "code",
      "metadata": {
        "id": "2FthSShQYCVk"
      },
      "source": [
        "'''Shuffling the pixels'''\n",
        "\n",
        "i = np.arange(pX5_9.shape[1])\n",
        "np.random.shuffle(i)\n",
        "\n",
        "pX5_9 = pX5_9[:, i]"
      ],
      "execution_count": 67,
      "outputs": []
    },
    {
      "cell_type": "code",
      "metadata": {
        "id": "24ahl9-aYCS0"
      },
      "source": [
        "'''splitting data into training and testing data'''\n",
        "\n",
        "pX_train5_9, pX_test5_9, pY_train5_9, pY_test5_9 = train_test_split(pX5_9, pY5_9, test_size=0.2)"
      ],
      "execution_count": 68,
      "outputs": []
    },
    {
      "cell_type": "code",
      "metadata": {
        "id": "2kdTk8drYCPT"
      },
      "source": [
        "'''reshaping inputs to feed to dense layer of network'''\n",
        "\n",
        "pX_train5_9 = pX_train5_9.reshape((-1, 784))\n",
        "pX_test5_9 = pX_test5_9.reshape((-1, 784))"
      ],
      "execution_count": 69,
      "outputs": []
    },
    {
      "cell_type": "code",
      "metadata": {
        "colab": {
          "base_uri": "https://localhost:8080/"
        },
        "id": "m_nj7XHzYCNM",
        "outputId": "a29f4f41-8ba2-4ba7-ace0-cde7c8a37dc6"
      },
      "source": [
        "'''creating a new model'''\n",
        "\n",
        "modelp5_9 = models.Sequential([\n",
        "    layers.Dense(800, input_dim = 784, activation='relu', kernel_regularizer=L2reg(modelp0_4.weights[0]), bias_regularizer=L2reg(modelp0_4.weights[1])),\n",
        "    layers.Dropout(0.5),\n",
        "    layers.Dense(800, activation='relu', kernel_regularizer = L2reg(modelp0_4.weights[2]), bias_regularizer = L2reg(modelp0_4.weights[3])),\n",
        "    layers.Dropout(0.5),\n",
        "    layers.Dense(800, activation='relu',kernel_regularizer = L2reg(modelp0_4.weights[4]), bias_regularizer = L2reg(modelp0_4.weights[5])),\n",
        "    layers.Dropout(0.5),\n",
        "    layers.Dense(5, activation='softmax',kernel_regularizer = L2reg(modelp0_4.weights[6]), bias_regularizer= L2reg(modelp0_4.weights[7]))\n",
        "])\n",
        "\n",
        "modelp5_9.summary()"
      ],
      "execution_count": 70,
      "outputs": [
        {
          "output_type": "stream",
          "text": [
            "Model: \"sequential_4\"\n",
            "_________________________________________________________________\n",
            "Layer (type)                 Output Shape              Param #   \n",
            "=================================================================\n",
            "dense_16 (Dense)             (None, 800)               628000    \n",
            "_________________________________________________________________\n",
            "dropout_12 (Dropout)         (None, 800)               0         \n",
            "_________________________________________________________________\n",
            "dense_17 (Dense)             (None, 800)               640800    \n",
            "_________________________________________________________________\n",
            "dropout_13 (Dropout)         (None, 800)               0         \n",
            "_________________________________________________________________\n",
            "dense_18 (Dense)             (None, 800)               640800    \n",
            "_________________________________________________________________\n",
            "dropout_14 (Dropout)         (None, 800)               0         \n",
            "_________________________________________________________________\n",
            "dense_19 (Dense)             (None, 5)                 4005      \n",
            "=================================================================\n",
            "Total params: 1,913,605\n",
            "Trainable params: 1,913,605\n",
            "Non-trainable params: 0\n",
            "_________________________________________________________________\n"
          ],
          "name": "stdout"
        }
      ]
    },
    {
      "cell_type": "code",
      "metadata": {
        "colab": {
          "base_uri": "https://localhost:8080/"
        },
        "id": "jJPO6tWvYCKh",
        "outputId": "a7467750-6351-4daa-9082-8871ce961ace"
      },
      "source": [
        "'''compiling and training the model for task 3'''\n",
        "'''Load weights from the previous task so that same model is used'''\n",
        "'''Save weights for initializing the next model'''\n",
        "\n",
        "\n",
        "modelp5_9.compile(loss='sparse_categorical_crossentropy', optimizer = opt, metrics=['accuracy'])\n",
        "\n",
        "modelp5_9.load_weights('/content/drive/MyDrive/552 PROJECT/IMM/task3pmnist0_4.h5')\n",
        "\n",
        "historyp5_9 = modelp5_9.fit(pX_train5_9, pY_train5_9, epochs=50, validation_data = (pX_test5_9, pY_test5_9))\n",
        "\n",
        "modelp5_9.save_weights('/content/drive/MyDrive/552 PROJECT/IMM/task4pmnist5_9.h5')"
      ],
      "execution_count": 71,
      "outputs": [
        {
          "output_type": "stream",
          "text": [
            "Train on 27412 samples, validate on 6853 samples\n",
            "Epoch 1/50\n",
            "27392/27412 [============================>.] - ETA: 0s - loss: 0.8755 - accuracy: 0.8494"
          ],
          "name": "stdout"
        },
        {
          "output_type": "stream",
          "text": [
            "/usr/local/lib/python3.7/dist-packages/tensorflow/python/keras/engine/training.py:2325: UserWarning: `Model.state_updates` will be removed in a future version. This property should not be used in TensorFlow 2.0, as `updates` are applied automatically.\n",
            "  warnings.warn('`Model.state_updates` will be removed in a future version. '\n"
          ],
          "name": "stderr"
        },
        {
          "output_type": "stream",
          "text": [
            "27412/27412 [==============================] - 4s 144us/sample - loss: 0.8754 - accuracy: 0.8494 - val_loss: 0.6629 - val_accuracy: 0.9263\n",
            "Epoch 2/50\n",
            "27412/27412 [==============================] - 4s 130us/sample - loss: 0.8522 - accuracy: 0.8637 - val_loss: 0.6512 - val_accuracy: 0.9323\n",
            "Epoch 3/50\n",
            "27412/27412 [==============================] - 4s 131us/sample - loss: 0.8454 - accuracy: 0.8664 - val_loss: 0.6746 - val_accuracy: 0.9167\n",
            "Epoch 4/50\n",
            "27412/27412 [==============================] - 4s 128us/sample - loss: 0.8495 - accuracy: 0.8646 - val_loss: 0.6871 - val_accuracy: 0.9195\n",
            "Epoch 5/50\n",
            "27412/27412 [==============================] - 4s 129us/sample - loss: 0.8453 - accuracy: 0.8644 - val_loss: 0.7279 - val_accuracy: 0.9106\n",
            "Epoch 6/50\n",
            "27412/27412 [==============================] - 4s 129us/sample - loss: 0.8492 - accuracy: 0.8654 - val_loss: 0.7400 - val_accuracy: 0.8995\n",
            "Epoch 7/50\n",
            "27412/27412 [==============================] - 4s 128us/sample - loss: 0.8569 - accuracy: 0.8623 - val_loss: 0.6803 - val_accuracy: 0.9192\n",
            "Epoch 8/50\n",
            "27412/27412 [==============================] - 3s 126us/sample - loss: 0.8537 - accuracy: 0.8634 - val_loss: 0.6784 - val_accuracy: 0.9282\n",
            "Epoch 9/50\n",
            "27412/27412 [==============================] - 4s 128us/sample - loss: 0.8560 - accuracy: 0.8650 - val_loss: 0.7214 - val_accuracy: 0.9212\n",
            "Epoch 10/50\n",
            "27412/27412 [==============================] - 3s 125us/sample - loss: 0.8549 - accuracy: 0.8639 - val_loss: 0.6507 - val_accuracy: 0.9267\n",
            "Epoch 11/50\n",
            "27412/27412 [==============================] - 4s 130us/sample - loss: 0.8521 - accuracy: 0.8618 - val_loss: 0.7149 - val_accuracy: 0.9104\n",
            "Epoch 12/50\n",
            "27412/27412 [==============================] - 4s 129us/sample - loss: 0.8536 - accuracy: 0.8631 - val_loss: 0.6981 - val_accuracy: 0.9251\n",
            "Epoch 13/50\n",
            "27412/27412 [==============================] - 4s 130us/sample - loss: 0.8578 - accuracy: 0.8640 - val_loss: 0.7899 - val_accuracy: 0.8916\n",
            "Epoch 14/50\n",
            "27412/27412 [==============================] - 4s 129us/sample - loss: 0.8562 - accuracy: 0.8624 - val_loss: 0.6931 - val_accuracy: 0.9232\n",
            "Epoch 15/50\n",
            "27412/27412 [==============================] - 4s 128us/sample - loss: 0.8509 - accuracy: 0.8655 - val_loss: 0.7098 - val_accuracy: 0.9122\n",
            "Epoch 16/50\n",
            "27412/27412 [==============================] - 3s 127us/sample - loss: 0.8511 - accuracy: 0.8649 - val_loss: 0.7017 - val_accuracy: 0.9244\n",
            "Epoch 17/50\n",
            "27412/27412 [==============================] - 4s 132us/sample - loss: 0.8571 - accuracy: 0.8625 - val_loss: 0.7552 - val_accuracy: 0.8955\n",
            "Epoch 18/50\n",
            "27412/27412 [==============================] - 4s 129us/sample - loss: 0.8517 - accuracy: 0.8647 - val_loss: 0.6620 - val_accuracy: 0.9326\n",
            "Epoch 19/50\n",
            "27412/27412 [==============================] - 3s 127us/sample - loss: 0.8622 - accuracy: 0.8622 - val_loss: 0.7482 - val_accuracy: 0.9040\n",
            "Epoch 20/50\n",
            "27412/27412 [==============================] - 4s 131us/sample - loss: 0.8548 - accuracy: 0.8627 - val_loss: 0.6864 - val_accuracy: 0.9211\n",
            "Epoch 21/50\n",
            "27412/27412 [==============================] - 4s 129us/sample - loss: 0.8464 - accuracy: 0.8648 - val_loss: 0.6929 - val_accuracy: 0.9215\n",
            "Epoch 22/50\n",
            "27412/27412 [==============================] - 4s 129us/sample - loss: 0.8481 - accuracy: 0.8653 - val_loss: 0.7196 - val_accuracy: 0.9075\n",
            "Epoch 23/50\n",
            "27412/27412 [==============================] - 4s 132us/sample - loss: 0.8515 - accuracy: 0.8639 - val_loss: 0.7188 - val_accuracy: 0.9068\n",
            "Epoch 24/50\n",
            "27412/27412 [==============================] - 4s 129us/sample - loss: 0.8537 - accuracy: 0.8620 - val_loss: 0.7463 - val_accuracy: 0.9028\n",
            "Epoch 25/50\n",
            "27412/27412 [==============================] - 4s 128us/sample - loss: 0.8557 - accuracy: 0.8620 - val_loss: 0.6875 - val_accuracy: 0.9244\n",
            "Epoch 26/50\n",
            "27412/27412 [==============================] - 4s 128us/sample - loss: 0.8592 - accuracy: 0.8630 - val_loss: 0.6735 - val_accuracy: 0.9282\n",
            "Epoch 27/50\n",
            "27412/27412 [==============================] - 4s 128us/sample - loss: 0.8540 - accuracy: 0.8640 - val_loss: 0.7632 - val_accuracy: 0.8936\n",
            "Epoch 28/50\n",
            "27412/27412 [==============================] - 3s 128us/sample - loss: 0.8540 - accuracy: 0.8639 - val_loss: 0.7124 - val_accuracy: 0.9154\n",
            "Epoch 29/50\n",
            "27412/27412 [==============================] - 4s 130us/sample - loss: 0.8499 - accuracy: 0.8632 - val_loss: 0.6656 - val_accuracy: 0.9230\n",
            "Epoch 30/50\n",
            "27412/27412 [==============================] - 4s 131us/sample - loss: 0.8535 - accuracy: 0.8641 - val_loss: 0.7630 - val_accuracy: 0.8957\n",
            "Epoch 31/50\n",
            "27412/27412 [==============================] - 4s 128us/sample - loss: 0.8515 - accuracy: 0.8635 - val_loss: 0.6555 - val_accuracy: 0.9281\n",
            "Epoch 32/50\n",
            "27412/27412 [==============================] - 4s 129us/sample - loss: 0.8556 - accuracy: 0.8623 - val_loss: 0.6795 - val_accuracy: 0.9224\n",
            "Epoch 33/50\n",
            "27412/27412 [==============================] - 4s 128us/sample - loss: 0.8502 - accuracy: 0.8643 - val_loss: 0.7587 - val_accuracy: 0.8884\n",
            "Epoch 34/50\n",
            "27412/27412 [==============================] - 4s 129us/sample - loss: 0.8618 - accuracy: 0.8606 - val_loss: 0.6950 - val_accuracy: 0.9145\n",
            "Epoch 35/50\n",
            "27412/27412 [==============================] - 4s 129us/sample - loss: 0.8497 - accuracy: 0.8655 - val_loss: 0.6979 - val_accuracy: 0.9161\n",
            "Epoch 36/50\n",
            "27412/27412 [==============================] - 4s 130us/sample - loss: 0.8516 - accuracy: 0.8627 - val_loss: 0.6941 - val_accuracy: 0.9174\n",
            "Epoch 37/50\n",
            "27412/27412 [==============================] - 4s 132us/sample - loss: 0.8502 - accuracy: 0.8634 - val_loss: 0.6606 - val_accuracy: 0.9294\n",
            "Epoch 38/50\n",
            "27412/27412 [==============================] - 3s 126us/sample - loss: 0.8528 - accuracy: 0.8657 - val_loss: 0.6994 - val_accuracy: 0.9209\n",
            "Epoch 39/50\n",
            "27412/27412 [==============================] - 4s 130us/sample - loss: 0.8493 - accuracy: 0.8660 - val_loss: 0.7075 - val_accuracy: 0.9183\n",
            "Epoch 40/50\n",
            "27412/27412 [==============================] - 4s 131us/sample - loss: 0.8464 - accuracy: 0.8663 - val_loss: 0.6640 - val_accuracy: 0.9260\n",
            "Epoch 41/50\n",
            "27412/27412 [==============================] - 4s 131us/sample - loss: 0.8536 - accuracy: 0.8641 - val_loss: 0.6736 - val_accuracy: 0.9243\n",
            "Epoch 42/50\n",
            "27412/27412 [==============================] - 4s 129us/sample - loss: 0.8518 - accuracy: 0.8652 - val_loss: 0.7003 - val_accuracy: 0.9117\n",
            "Epoch 43/50\n",
            "27412/27412 [==============================] - 4s 131us/sample - loss: 0.8551 - accuracy: 0.8651 - val_loss: 0.7103 - val_accuracy: 0.9076\n",
            "Epoch 44/50\n",
            "27412/27412 [==============================] - 4s 131us/sample - loss: 0.8535 - accuracy: 0.8612 - val_loss: 0.6863 - val_accuracy: 0.9260\n",
            "Epoch 45/50\n",
            "27412/27412 [==============================] - 4s 128us/sample - loss: 0.8519 - accuracy: 0.8648 - val_loss: 0.7207 - val_accuracy: 0.9165\n",
            "Epoch 46/50\n",
            "27412/27412 [==============================] - 4s 130us/sample - loss: 0.8528 - accuracy: 0.8639 - val_loss: 0.8773 - val_accuracy: 0.8640\n",
            "Epoch 47/50\n",
            "27412/27412 [==============================] - 4s 129us/sample - loss: 0.8500 - accuracy: 0.8645 - val_loss: 0.7464 - val_accuracy: 0.8925\n",
            "Epoch 48/50\n",
            "27412/27412 [==============================] - 4s 128us/sample - loss: 0.8586 - accuracy: 0.8633 - val_loss: 0.7721 - val_accuracy: 0.8825\n",
            "Epoch 49/50\n",
            "27412/27412 [==============================] - 4s 130us/sample - loss: 0.8523 - accuracy: 0.8638 - val_loss: 0.8949 - val_accuracy: 0.8550\n",
            "Epoch 50/50\n",
            "27412/27412 [==============================] - 4s 131us/sample - loss: 0.8506 - accuracy: 0.8642 - val_loss: 0.7361 - val_accuracy: 0.8875\n"
          ],
          "name": "stdout"
        }
      ]
    },
    {
      "cell_type": "code",
      "metadata": {
        "colab": {
          "base_uri": "https://localhost:8080/",
          "height": 265
        },
        "id": "u8WkTpFSYCIh",
        "outputId": "450d6a48-c3dc-4f38-de64-38d0e4b8e893"
      },
      "source": [
        "'''Plotting the accuracy over training period'''\n",
        "\n",
        "plot(historyp5_9)"
      ],
      "execution_count": 72,
      "outputs": [
        {
          "output_type": "display_data",
          "data": {
            "image/png": "[encoded data removed]",
            "text/plain": [
              "<Figure size 432x288 with 1 Axes>"
            ]
          },
          "metadata": {
            "tags": [],
            "needs_background": "light"
          }
        }
      ]
    },
    {
      "cell_type": "markdown",
      "metadata": {
        "id": "R5-NOWVbZ0dD"
      },
      "source": [
        "# Checking accuracy change on Task A with IMM_Mean"
      ]
    },
    {
      "cell_type": "code",
      "metadata": {
        "id": "Evi5Sb_DmjIN"
      },
      "source": [
        "'''creating dictionary to save model weights and bias by layer'''\n",
        "\n",
        "def create_parameter_dict(layers, params):  \n",
        "  model_dict = {1:[], 2:[], 3:[], 4:[]}\n",
        "  p = 0\n",
        "  for layer in range(1, layers+1): \n",
        "    model_dict[layer].append(params[p])\n",
        "    model_dict[layer].append(params[p+1])\n",
        "    p = p + 2\n",
        "  return model_dict"
      ],
      "execution_count": 81,
      "outputs": []
    },
    {
      "cell_type": "code",
      "metadata": {
        "id": "4HIqXSI5nEu3"
      },
      "source": [
        "'''creating array of weights and bias for all models (weights format)'''\n",
        "\n",
        "def create_new_model(layers, models):\n",
        "  \n",
        "  no_of_models = len(models)\n",
        "  new_model = {}\n",
        "\n",
        "\n",
        "  # creating new model parameter dictionary\n",
        "  for layer in range(1, layers+1):\n",
        "    new_model[layer] = []\n",
        "  \n",
        "\n",
        "  for layer in range(1, layers+1): # loop layer by layer\n",
        "    weights = 0\n",
        "    for n in range(no_of_models): # summation of same layer for all models\n",
        "      weights = weights + models[n][layer][0]\n",
        "    \n",
        "    weights = weights / no_of_models\n",
        "    new_model[layer].append(weights)\n",
        "    \n",
        "\n",
        "  for layer in range(1, layers+1): # loop layer by layer\n",
        "    bias = 0\n",
        "    for n in range(no_of_models): # summation of same layer for all models\n",
        "      bias = bias + models[n][layer][1]    \n",
        "    \n",
        "    bias = bias / no_of_models\n",
        "    new_model[layer].append(bias)\n",
        "  \n",
        "  # returning new model weights\n",
        "  return new_model"
      ],
      "execution_count": 82,
      "outputs": []
    },
    {
      "cell_type": "code",
      "metadata": {
        "id": "NV6JY_8uZ48N"
      },
      "source": [
        "'''Creating model_weight dictionaries'''\n",
        "\n",
        "nlayers = 4\n",
        "\n",
        "params0_4 = model0_4.get_weights()\n",
        "model0_4_dict = create_parameter_dict(nlayers, params0_4)\n",
        "\n",
        "params5_9 = model5_9.get_weights()\n",
        "model5_9_dict = create_parameter_dict(nlayers, params5_9)\n",
        "\n",
        "paramsP0_4 = modelp0_4.get_weights()\n",
        "modelP0_4_dict = create_parameter_dict(nlayers, paramsP0_4)\n",
        "\n",
        "paramsP5_9 = modelp0_4.get_weights()\n",
        "modelP5_9_dict = create_parameter_dict(nlayers, paramsP5_9)"
      ],
      "execution_count": 83,
      "outputs": []
    },
    {
      "cell_type": "code",
      "metadata": {
        "id": "HdbvB8xenEsL"
      },
      "source": [
        "'''creating arrays of weights and biases'''\n",
        "\n",
        "after2tasks_model_dict = create_new_model(nlayers, [model0_4_dict, model5_9_dict])\n",
        "after2tasks_model = []\n",
        "for i in after2tasks_model_dict.keys():\n",
        "  after2tasks_model.append(after2tasks_model_dict[i][0])\n",
        "  after2tasks_model.append(after2tasks_model_dict[i][1])"
      ],
      "execution_count": 84,
      "outputs": []
    },
    {
      "cell_type": "code",
      "metadata": {
        "id": "Y7KxrHJxnEo6"
      },
      "source": [
        "'''creating arrays of weights and biases'''\n",
        "\n",
        "after3tasks_model_dict = create_new_model(nlayers, [model0_4_dict, model5_9_dict, modelP0_4_dict])\n",
        "after3tasks_model = []\n",
        "for i in after3tasks_model_dict.keys():\n",
        "  after3tasks_model.append(after3tasks_model_dict[i][0])\n",
        "  after3tasks_model.append(after3tasks_model_dict[i][1])"
      ],
      "execution_count": 85,
      "outputs": []
    },
    {
      "cell_type": "code",
      "metadata": {
        "id": "vQwAV8OanEm1"
      },
      "source": [
        "'''creating arrays of weights and biases'''\n",
        "\n",
        "after4tasks_model_dict = create_new_model(nlayers, [model0_4_dict, model5_9_dict, modelP0_4_dict, modelP5_9_dict])\n",
        "after4tasks_model = []\n",
        "for i in after4tasks_model_dict.keys():\n",
        "  after4tasks_model.append(after4tasks_model_dict[i][0])\n",
        "  after4tasks_model.append(after4tasks_model_dict[i][1])"
      ],
      "execution_count": 86,
      "outputs": []
    },
    {
      "cell_type": "code",
      "metadata": {
        "id": "sTIecCnMpSbg"
      },
      "source": [
        "'''creating 3 new models for evaluating performance on Task A after training on:\n",
        "(i) Task B\n",
        "(ii) Task B and Task C\n",
        "(iii) Task B, Task C and Task D'''\n",
        "\n",
        "imm2 = create_model()\n",
        "imm3 = create_model()\n",
        "imm4 = create_model()"
      ],
      "execution_count": 87,
      "outputs": []
    },
    {
      "cell_type": "code",
      "metadata": {
        "id": "_nQbUANlzNlr"
      },
      "source": [
        "'''Initializing weights and biases for newly created models'''\n",
        "\n",
        "def set_model_weights(new_model, weights):\n",
        "  lc = 0\n",
        "  for i in range(0, 8, 2):\n",
        "    layer = []\n",
        "    layer.append(weights[i])\n",
        "    layer.append(weights[i+1])\n",
        "    new_model.layers[lc].set_weights(layer)\n",
        "    lc = lc + 2\n",
        "  return new_model"
      ],
      "execution_count": 88,
      "outputs": []
    },
    {
      "cell_type": "code",
      "metadata": {
        "id": "AkarqMNyzrvL"
      },
      "source": [
        "'''Initialize models with appropriate weights and biases'''\n",
        "\n",
        "imm2 = set_model_weights(imm2, after2tasks_model)\n",
        "imm3 = set_model_weights(imm3, after3tasks_model)\n",
        "imm4 = set_model_weights(imm4, after4tasks_model)"
      ],
      "execution_count": 89,
      "outputs": []
    },
    {
      "cell_type": "code",
      "metadata": {
        "colab": {
          "base_uri": "https://localhost:8080/"
        },
        "id": "2U7gxNTmv_CL",
        "outputId": "54900e57-fd00-4801-e0d8-06832cb932e7"
      },
      "source": [
        "'''evaluating accuracy after training on task b'''\n",
        "\n",
        "imm2.compile(loss='sparse_categorical_crossentropy', optimizer = opt, metrics=['accuracy'])\n",
        "imm2_accuracy = round(imm2.evaluate(x_test0_4, y_test0_4)[1]*100, 2)\n",
        "imm2_accuracy"
      ],
      "execution_count": 90,
      "outputs": [
        {
          "output_type": "stream",
          "text": [
            "/usr/local/lib/python3.7/dist-packages/tensorflow/python/keras/engine/training.py:2325: UserWarning: `Model.state_updates` will be removed in a future version. This property should not be used in TensorFlow 2.0, as `updates` are applied automatically.\n",
            "  warnings.warn('`Model.state_updates` will be removed in a future version. '\n"
          ],
          "name": "stderr"
        },
        {
          "output_type": "execute_result",
          "data": {
            "text/plain": [
              "99.29"
            ]
          },
          "metadata": {
            "tags": []
          },
          "execution_count": 90
        }
      ]
    },
    {
      "cell_type": "code",
      "metadata": {
        "colab": {
          "base_uri": "https://localhost:8080/"
        },
        "id": "8ucvOyreyY6Q",
        "outputId": "b1690359-0bf0-4605-d6b4-2d28eef52771"
      },
      "source": [
        "'''evaluating accuracy after training on task b and task c'''\n",
        "\n",
        "imm3.compile(loss='sparse_categorical_crossentropy', optimizer = opt, metrics=['accuracy'])\n",
        "imm3_accuracy = round(imm3.evaluate(x_test0_4, y_test0_4)[1]*100, 2)\n",
        "imm3_accuracy"
      ],
      "execution_count": 91,
      "outputs": [
        {
          "output_type": "stream",
          "text": [
            "/usr/local/lib/python3.7/dist-packages/tensorflow/python/keras/engine/training.py:2325: UserWarning: `Model.state_updates` will be removed in a future version. This property should not be used in TensorFlow 2.0, as `updates` are applied automatically.\n",
            "  warnings.warn('`Model.state_updates` will be removed in a future version. '\n"
          ],
          "name": "stderr"
        },
        {
          "output_type": "execute_result",
          "data": {
            "text/plain": [
              "99.05"
            ]
          },
          "metadata": {
            "tags": []
          },
          "execution_count": 91
        }
      ]
    },
    {
      "cell_type": "code",
      "metadata": {
        "colab": {
          "base_uri": "https://localhost:8080/"
        },
        "id": "5mG-g03zyrav",
        "outputId": "6f55eb1e-e087-47d6-c153-e87173463389"
      },
      "source": [
        "'''evaluating accuracy after training on task b, task c and task d'''\n",
        "\n",
        "imm4.compile(loss='sparse_categorical_crossentropy', optimizer = opt, metrics=['accuracy'])\n",
        "imm4_accuracy = round(imm4.evaluate(x_test0_4, y_test0_4)[1]*100, 2)\n",
        "imm4_accuracy"
      ],
      "execution_count": 92,
      "outputs": [
        {
          "output_type": "stream",
          "text": [
            "/usr/local/lib/python3.7/dist-packages/tensorflow/python/keras/engine/training.py:2325: UserWarning: `Model.state_updates` will be removed in a future version. This property should not be used in TensorFlow 2.0, as `updates` are applied automatically.\n",
            "  warnings.warn('`Model.state_updates` will be removed in a future version. '\n"
          ],
          "name": "stderr"
        },
        {
          "output_type": "execute_result",
          "data": {
            "text/plain": [
              "98.82"
            ]
          },
          "metadata": {
            "tags": []
          },
          "execution_count": 92
        }
      ]
    },
    {
      "cell_type": "code",
      "metadata": {
        "colab": {
          "base_uri": "https://localhost:8080/"
        },
        "id": "H2nK-xlM1ue0",
        "outputId": "8a8c4ded-a68a-4bbb-e44e-481b388cd863"
      },
      "source": [
        "original_acc = round(model0_4.evaluate(x_test0_4, y_test0_4)[1]*100, 2)\n",
        "original_acc"
      ],
      "execution_count": 93,
      "outputs": [
        {
          "output_type": "execute_result",
          "data": {
            "text/plain": [
              "99.33"
            ]
          },
          "metadata": {
            "tags": []
          },
          "execution_count": 93
        }
      ]
    },
    {
      "cell_type": "code",
      "metadata": {
        "id": "y1196Lwv18yU"
      },
      "source": [
        "accuracies = [original_acc, imm2_accuracy, imm3_accuracy, imm4_accuracy]"
      ],
      "execution_count": 94,
      "outputs": []
    },
    {
      "cell_type": "code",
      "metadata": {
        "colab": {
          "base_uri": "https://localhost:8080/",
          "height": 369
        },
        "id": "8vsbJ6itZ4tj",
        "outputId": "1a8fa336-5ef1-4fb7-e725-8feb3836a80e"
      },
      "source": [
        "fig, ax = plt.subplots()\n",
        "\n",
        "fig.set_size_inches(7, 5, forward=True)\n",
        "\n",
        "x = ['Original Accuracy', 'After Task 2', 'After Task 3', 'After Task 4']\n",
        "y = accuracies\n",
        "\n",
        "# Save the chart so we can loop through the bars below.\n",
        "bars = ax.bar(\n",
        "    x = x,\n",
        "    height=y,\n",
        "    tick_label=x\n",
        ")\n",
        "\n",
        "# Axis formatting.\n",
        "ax.spines['top'].set_visible(True)\n",
        "ax.spines['right'].set_visible(True)\n",
        "ax.spines['left'].set_visible(True)\n",
        "ax.spines['bottom'].set_color('#DDDDDE')\n",
        "ax.tick_params(bottom=False, left=True)\n",
        "ax.set_axisbelow(True)\n",
        "ax.yaxis.grid(True, color='#EEEEEE')\n",
        "ax.xaxis.grid(True)\n",
        "\n",
        "# Add text annotations to the top of the bars.\n",
        "bar_color = bars[0].get_facecolor()\n",
        "for bar in bars:\n",
        "  ax.text(\n",
        "      bar.get_x() + bar.get_width() / 2,\n",
        "      bar.get_height() + 0.3,\n",
        "      round(bar.get_height(), 1),\n",
        "      horizontalalignment='center',\n",
        "      color='black'\n",
        "      #weight='bold'\n",
        "  )\n",
        "\n",
        "# Add labels and a title. Note the use of `labelpad` and `pad` to add some\n",
        "# extra space between the text and the tick labels.\n",
        "#ax.set_xlabel('Different methods', labelpad=15, color='#333333')\n",
        "ax.set_ylabel('Accuracy', labelpad=15, color='#333333')\n",
        "ax.set_title('Demonstration of Catastrophic Forgetting', pad=15, color='#333333',\n",
        "             weight='bold')\n",
        "\n",
        "fig.tight_layout()"
      ],
      "execution_count": 95,
      "outputs": [
        {
          "output_type": "display_data",
          "data": {
            "image/png": "[encoded data removed]",
            "text/plain": [
              "<Figure size 504x360 with 1 Axes>"
            ]
          },
          "metadata": {
            "tags": [],
            "needs_background": "light"
          }
        }
      ]
    },
    {
      "cell_type": "code",
      "metadata": {
        "colab": {
          "base_uri": "https://localhost:8080/",
          "height": 295
        },
        "id": "rRsR8LDRbskH",
        "outputId": "34864214-fbc2-4706-a73f-00b823fe18f4"
      },
      "source": [
        "\n",
        "plt.title('Accuracy of the model on task A')\n",
        "plt.plot([1,2,3,4], accuracies, color='blue', marker='o', linestyle='dashed', linewidth=2, markersize=12)\n",
        "plt.xticks([1,2,3,4])\n",
        "plt.xlabel('Tasks')\n",
        "plt.ylabel('Accuracy')\n",
        "plt.grid(True)"
      ],
      "execution_count": 96,
      "outputs": [
        {
          "output_type": "display_data",
          "data": {
            "image/png": "[encoded data removed]",
            "text/plain": [
              "<Figure size 432x288 with 1 Axes>"
            ]
          },
          "metadata": {
            "tags": [],
            "needs_background": "light"
          }
        }
      ]
    },
    {
      "cell_type": "code",
      "metadata": {
        "id": "yaA21ubb2Do0"
      },
      "source": [
        ""
      ],
      "execution_count": null,
      "outputs": []
    }
  ]
}